{
 "cells": [
  {
   "cell_type": "code",
   "execution_count": 5,
   "metadata": {},
   "outputs": [],
   "source": [
    "from pathlib import Path\n",
    "import numpy as np\n",
    "import pandas as pd\n",
    "import random\n",
    "import copy\n",
    "import ast\n",
    "import pprint\n",
    "import json\n",
    "import re\n",
    "import time"
   ]
  },
  {
   "cell_type": "code",
   "execution_count": 6,
   "metadata": {},
   "outputs": [],
   "source": [
    "devices = [\"cover\", \"switch\", \"light\", \"input\", \"temperature\", 'smoke', 'humidity']\n",
    "devices = [device.capitalize() for device in devices]"
   ]
  },
  {
   "cell_type": "code",
   "execution_count": 7,
   "metadata": {},
   "outputs": [],
   "source": [
    "GENERATE_METHODS_DIR = Path('data/docs/manual')\n",
    "METHODS_DIR = Path('data/docs/methods')\n",
    "PROMPT_SEEDS_DIR = Path('data/prompts/generation/components')\n",
    "PROMPT_COMPONENTS_DIR = Path('data/prompts/generation/components')\n",
    "GEN_PROMPTS_DIR = Path('data/prompts/generation/output')\n",
    "VAL_PROMPTS_DIR = Path('data/prompts/validation/output')"
   ]
  },
  {
   "cell_type": "markdown",
   "metadata": {},
   "source": [
    "# seeds generation"
   ]
  },
  {
   "cell_type": "code",
   "execution_count": 13,
   "metadata": {},
   "outputs": [],
   "source": [
    "target_device = devices[2]\n",
    "\n",
    "with open('prompts/prompt.md', \"w\") as f:\n",
    "    f.write(f'')\n",
    "\n",
    "with open('prompts/instruction_onedevice.md', \"r\") as f:\n",
    "    instruction = f.read()\n",
    "with open('prompts/seeds_multiapi.md', \"r\") as f:\n",
    "    seeds = f.read()\n",
    "\n",
    "with open('prompts/prompt.md', \"a\") as f:\n",
    "    f.write(f'{instruction}\\n\\n'\n",
    "            f'Example:\\n\\n{seeds}\\n\\n'\n",
    "            f'For generation: \\n\\n'\n",
    "            f'Device: {target_device} id=XXX\\n\\n')\n",
    "\n",
    "row_i = 0\n",
    "for p in Path('docs/').iterdir():\n",
    "    if target_device in p.name and p.name != f'{target_device}.md':\n",
    "        with open(p, \"r\") as f:\n",
    "            method_str = f.read()\n",
    "        with open('prompts/prompt.md', \"a\") as f:\n",
    "            f.write(f'API method {row_i}: {method_str}\\n')\n",
    "        row_i += 1\n",
    "    if row_i == 5:\n",
    "        break\n",
    "\n",
    "# with open('prompts/prompt.md', \"a\") as f:\n",
    "#     f.write(f'User command 0:')"
   ]
  },
  {
   "cell_type": "code",
   "execution_count": 21,
   "metadata": {},
   "outputs": [],
   "source": []
  },
  {
   "cell_type": "code",
   "execution_count": 49,
   "metadata": {},
   "outputs": [],
   "source": [
    "output = \"\"\"[{\"User command 0.1\": \"Reset the energy counter for the main light.\", \"JSON command 0.1\": {\"method\": \"Light.ResetCounters\", \"params\": {\"id\": \"id\", \"type\": [\"energy\"]}}}, {\"User command 0.2\": \"Reset the all counter for the light, please.\", \"JSON command 0.2\": {\"method\": \"Light.ResetCounters\", \"params\": {\"id\": \"id\"}}}, {\"User command 1.1\" : \"Could you please fetch the configuration details for the living room light, including its name, night mode settings, and transition duration?\", \"JSON command 1.1\": {\"method\": \"Light.GetConfig\", \"params\": {\"id\": \"id\"}}}, {\"User command 1.2\" : \"Tell me, what is transition duration for the main light?\", \"JSON command 1.2\": {\"method\": \"Light.GetConfig\", \"params\": {\"id\": \"id\"}}}]\"\"\"\n",
    "output = output.replace(\"XXX\", '\"id\"')"
   ]
  },
  {
   "cell_type": "code",
   "execution_count": 50,
   "metadata": {},
   "outputs": [],
   "source": [
    "output = re.sub(r'(User command \\d\\.\\d)', 'User command', output)\n",
    "output = re.sub(r'(JSON command \\d\\.\\d)', 'JSON command', output)"
   ]
  },
  {
   "cell_type": "code",
   "execution_count": 51,
   "metadata": {},
   "outputs": [
    {
     "name": "stdout",
     "output_type": "stream",
     "text": [
      "[{\"User command\": \"Reset the energy counter for the main light.\", \"JSON command\": {\"method\": \"Light.ResetCounters\", \"params\": {\"id\": \"id\", \"type\": [\"energy\"]}}}, {\"User command\": \"Reset the all counter for the light, please.\", \"JSON command\": {\"method\": \"Light.ResetCounters\", \"params\": {\"id\": \"id\"}}}, {\"User command\" : \"Could you please fetch the configuration details for the living room light, including its name, night mode settings, and transition duration?\", \"JSON command\": {\"method\": \"Light.GetConfig\", \"params\": {\"id\": \"id\"}}}, {\"User command\" : \"Tell me, what is transition duration for the main light?\", \"JSON command\": {\"method\": \"Light.GetConfig\", \"params\": {\"id\": \"id\"}}}]\n"
     ]
    }
   ],
   "source": [
    "print(output)"
   ]
  },
  {
   "cell_type": "code",
   "execution_count": 52,
   "metadata": {},
   "outputs": [],
   "source": [
    "import json"
   ]
  },
  {
   "cell_type": "code",
   "execution_count": 53,
   "metadata": {},
   "outputs": [],
   "source": [
    "cmds = json.loads(output)"
   ]
  },
  {
   "cell_type": "code",
   "execution_count": 54,
   "metadata": {},
   "outputs": [
    {
     "data": {
      "text/plain": [
       "'[{\"User command\": \"Reset the energy counter for the main light.\", \"JSON command\": {\"method\": \"Light.ResetCounters\", \"params\": {\"id\": \"id\", \"type\": [\"energy\"]}}}, {\"User command\": \"Reset the all counter for the light, please.\", \"JSON command\": {\"method\": \"Light.ResetCounters\", \"params\": {\"id\": \"id\"}}}, {\"User command\": \"Could you please fetch the configuration details for the living room light, including its name, night mode settings, and transition duration?\", \"JSON command\": {\"method\": \"Light.GetConfig\", \"params\": {\"id\": \"id\"}}}, {\"User command\": \"Tell me, what is transition duration for the main light?\", \"JSON command\": {\"method\": \"Light.GetConfig\", \"params\": {\"id\": \"id\"}}}]'"
      ]
     },
     "execution_count": 54,
     "metadata": {},
     "output_type": "execute_result"
    }
   ],
   "source": [
    "json.dumps(cmds)"
   ]
  },
  {
   "cell_type": "code",
   "execution_count": 55,
   "metadata": {},
   "outputs": [
    {
     "name": "stdout",
     "output_type": "stream",
     "text": [
      "{'device': ['Light', 'Light', 'Light', 'Light'], 'user_cmd': ['Reset the energy counter for the main light.', 'Reset the all counter for the light, please.', 'Could you please fetch the configuration details for the living room light, including its name, night mode settings, and transition duration?', 'Tell me, what is transition duration for the main light?'], 'used_mtd': ['Light.ResetCounters', 'Light.ResetCounters', 'Light.GetConfig', 'Light.GetConfig'], 'json_cmd': [{'method': 'Light.ResetCounters', 'params': {'id': 'id', 'type': ['energy']}}, {'method': 'Light.ResetCounters', 'params': {'id': 'id'}}, {'method': 'Light.GetConfig', 'params': {'id': 'id'}}, {'method': 'Light.GetConfig', 'params': {'id': 'id'}}]}\n"
     ]
    }
   ],
   "source": [
    "df_dict = {'device': [], 'user_cmd': [], 'used_mtd': [], 'json_cmd': []}\n",
    "for row_i in range(len(cmds)):\n",
    "    df_dict['user_cmd'].append(cmds[row_i][f'User command'])\n",
    "    df_dict['json_cmd'].append(cmds[row_i][f'JSON command'])\n",
    "    df_dict['used_mtd'].append(f'{cmds[row_i][f\"JSON command\"][\"method\"]}')\n",
    "    df_dict['device'].append(target_device)\n",
    "print(df_dict)"
   ]
  },
  {
   "cell_type": "code",
   "execution_count": 56,
   "metadata": {},
   "outputs": [],
   "source": [
    "data_path = Path('data/')"
   ]
  },
  {
   "cell_type": "code",
   "execution_count": 57,
   "metadata": {},
   "outputs": [],
   "source": [
    "\n",
    "df = pd.DataFrame(df_dict)\n",
    "df.to_csv(data_path / f'prompt_seeds.csv', index=False, mode='a', header=False)"
   ]
  },
  {
   "cell_type": "markdown",
   "metadata": {},
   "source": [
    "# prompt generation"
   ]
  },
  {
   "cell_type": "code",
   "execution_count": 4,
   "metadata": {},
   "outputs": [],
   "source": [
    "import pprint"
   ]
  },
  {
   "cell_type": "code",
   "execution_count": 7,
   "metadata": {},
   "outputs": [
    {
     "name": "stdout",
     "output_type": "stream",
     "text": [
      "{'Cover': {'advance': [], 'basic': []},\n",
      " 'Humidity': {'advance': [], 'basic': ['Humidity.SetHumidity']},\n",
      " 'Input': {'advance': [], 'basic': []},\n",
      " 'Light': {'advance': [], 'basic': []},\n",
      " 'Smoke': {'advance': [], 'basic': []},\n",
      " 'Switch': {'advance': [], 'basic': []},\n",
      " 'Temperature': {'advance': [], 'basic': ['Temperature.SetTemperature']}}\n"
     ]
    }
   ],
   "source": [
    "device_methods_dict = {device: {'basic': [], 'advance': []} for device in devices}\n",
    "advance_methods = ['GetConfig', 'SetConfig', 'GetStatus']\n",
    "for p in GENERATE_METHODS_DIR.iterdir():\n",
    "    for d in devices:\n",
    "        if d in p.name:\n",
    "            if p.stem.split('.')[1] in advance_methods:\n",
    "                device_methods_dict[d]['advance'].append(p.stem)\n",
    "            else:\n",
    "                device_methods_dict[d]['basic'].append(p.stem)         \n",
    "pprint.pprint(device_methods_dict)"
   ]
  },
  {
   "cell_type": "code",
   "execution_count": 8,
   "metadata": {},
   "outputs": [],
   "source": [
    "def generate_seed(seeds_df, num_methods=2, num_examples=2):\n",
    "    rand_device = random.choice(list(seeds_df['device'].unique()))\n",
    "    seed_methods = random.sample(list(seeds_df[seeds_df['device'] == rand_device]['used_mtd'].unique()), num_methods)\n",
    "    methods_description = ''\n",
    "    cmds = {}\n",
    "    for method_i, method in enumerate(seed_methods):\n",
    "        with open(METHODS_DIR / f'{method}.md', \"r\") as f:\n",
    "            method_str = f.read()\n",
    "        methods_description += f'API method {method_i+1}: {method_str}\\n'\n",
    "        example_ids = random.sample(list(seeds_df[seeds_df['used_mtd'] == method].index), num_examples)\n",
    "        for example_i, row_i in enumerate(example_ids):\n",
    "            cmds[f'Example {method_i+1}.{example_i+1}'] = {f'User command': seeds_df.loc[row_i, 'user_cmd'],\n",
    "                 f'JSON command': ast.literal_eval(seeds_df.loc[row_i, 'json_cmd'].replace(\"'\", '\"'))}\n",
    "    seed_description = (\n",
    "        f'The next device, methods and JSON are example:\\n\\n'\n",
    "        f'Device: {rand_device} id=33\\n\\n'\n",
    "        f'{methods_description}'\n",
    "        f'{json.dumps({\"commands\": cmds})}'\n",
    "    )\n",
    "    return seed_description\n",
    "\n",
    "def generate_advance_seed(seeds_df):\n",
    "    rand_device = random.choice(list(seeds_df['device'].unique()))\n",
    "    method = random.choice(list(seeds_df[seeds_df['device'] == rand_device]['used_mtd'].unique()))\n",
    "    cmds = {}\n",
    "    with open(METHODS_DIR / f'{method}.md', \"r\") as f:\n",
    "        method_str = f.read()\n",
    "    method_description = f'API method 1:\\n{method_str}\\n'\n",
    "    sample_method_ids = list(seeds_df[seeds_df['used_mtd'] == method].index)\n",
    "    example_ids = random.sample(sample_method_ids, min(4, len(sample_method_ids)))\n",
    "    for example_i, row_i in enumerate(example_ids):\n",
    "        cmds[f'Example {example_i+1}'] = {f'User command': seeds_df.loc[row_i, 'user_cmd'],\n",
    "            f'JSON command': ast.literal_eval(seeds_df.loc[row_i, 'json_cmd'].replace(\"'\", '\"'))}\n",
    "    seed_description = (\n",
    "        f'The next device, methods and JSON are example:\\n\\n'\n",
    "        f'Device: {rand_device} id=33\\n\\n'\n",
    "        f'{method_description}'\n",
    "        f'{json.dumps({\"commands\": cmds})}'\n",
    "    )\n",
    "    return seed_description"
   ]
  },
  {
   "cell_type": "code",
   "execution_count": 12,
   "metadata": {},
   "outputs": [
    {
     "name": "stdout",
     "output_type": "stream",
     "text": [
      "The next device, methods and JSON are example:\n",
      "\n",
      "Device: Cover id=33\n",
      "\n",
      "API method 1: Method name: Cover.Open\n",
      "Method description: Preconditions:\n",
      "Cover will not accept the command if:\n",
      "An  overvoltage  error is set at the time of the request.\n",
      "An  undervoltage  error is set at the time of the request.\n",
      "An  overtemp  error is set at the time of the request.\n",
      "An engaged  safety_switch  prohibits movement in the requested direction.\n",
      "Cover  calibration is running at the time of the request\n",
      "Properties:\n",
      "{\"id\": {\"type\": \"number\", \"description\": \"The numeric ID of the Cover component instance\"}, \"duration\": {\"type\": \"number\", \"description\": \"If duration is not provided, Cover will fully open, unless it times out because of maxtime_open first. If duration (seconds) is provided, Cover will move in the open direction for the specified time. duration must be in the range [0.1..maxtime_open]Optional\"}}\n",
      "Response:\n",
      "null on success; error if the request can not be executed or failed\n",
      "\n",
      "API method 2: Method name: Cover.Close\n",
      "Method description: Preconditions:\n",
      "Cover will not accept the command if:\n",
      "An  overvoltage  error is set at the time of the request.\n",
      "An  undervoltage  error is set at the time of the request.\n",
      "An  overtemp  error is set at the time of the request.\n",
      "An engaged  safety_switch  prohibits movement in the requested direction.\n",
      "Cover  calibration is running at the time of the request\n",
      "Properties:\n",
      "{\"id\": {\"type\": \"number\", \"description\": \"The numeric ID of the Cover component instance\"}, \"duration\": {\"type\": \"number\", \"description\": \"If duration is not provided, Cover will fully close, unless it times out because of maxtime_close first. If duration (seconds) is provided, Cover will move in the close direction for the specified time. duration must be in the range [0.1..maxtime_open]Optional\"}}\n",
      "Response:\n",
      "null on success; error if the request can not be executed or failed\n",
      "\n",
      "{\"commands\": {\"Example 1.1\": {\"User command\": \"Can you open the cover?\", \"JSON command\": {\"method\": \"Cover.Open\", \"params\": {\"id\": 444}}}, \"Example 1.2\": {\"User command\": \"Can you partially open the kitchen curtains for some sunlight?\", \"JSON command\": {\"method\": \"Cover.Open\", \"params\": {\"id\": 444}}}, \"Example 1.3\": {\"User command\": \"Open the bedroom cover for half of a minute.\", \"JSON command\": {\"method\": \"Cover.Open\", \"params\": {\"id\": 444, \"duration\": 30}}}, \"Example 2.1\": {\"User command\": \"Close the bathroom cover.\", \"JSON command\": {\"method\": \"Cover.Close\", \"params\": {\"id\": 444}}}, \"Example 2.2\": {\"User command\": \"Close the kitchen cover quickly (for 5 seconds).\", \"JSON command\": {\"method\": \"Cover.Close\", \"params\": {\"id\": 444, \"duration\": 5}}}, \"Example 2.3\": {\"User command\": \"Close the dining area drapes with a duration of 5 seconds.\", \"JSON command\": {\"method\": \"Cover.Close\", \"params\": {\"id\": 444, \"duration\": 5}}}}}\n"
     ]
    }
   ],
   "source": [
    "seeds_df = pd.read_csv(PROMPT_SEEDS_DIR / 'prompt_seeds.csv')\n",
    "# json.loads(seeds_df.loc[0, 'json_cmd'].replace(\"'\", '\"'))['method']\n",
    "# f\"dict: {json.dumps(ast.literal_eval(seeds_df.loc[0, 'json_cmd']))}\"\n",
    "print(generate_seed(seeds_df, num_examples=3))"
   ]
  },
  {
   "cell_type": "code",
   "execution_count": 13,
   "metadata": {},
   "outputs": [],
   "source": [
    "NUM_METHODS_GEN = 2\n",
    "NUM_METHODS_SEED = 2\n",
    "NUM_EXAMPLES_SEED = 3\n",
    "EXAMPLES_BASIC_METHOD = NUM_EXAMPLES_SEED\n",
    "EXAMPLES_ADVANCE_METHOD = 8"
   ]
  },
  {
   "cell_type": "code",
   "execution_count": 19,
   "metadata": {},
   "outputs": [],
   "source": [
    "seeds_df = pd.read_csv(PROMPT_SEEDS_DIR / 'prompt_seeds.csv')\n",
    "\n",
    "gen_prompts_df = pd.DataFrame(columns=['type', 'device', 'last_mtd_i', 'text'])\n",
    "for device, methods in device_methods_dict.items():\n",
    "    method_i = 0\n",
    "    methods_description = ''\n",
    "\n",
    "    for i, method_name in enumerate(methods['basic']):\n",
    "        with open(GENERATE_METHODS_DIR / f'{method_name}.md', \"r\") as f:\n",
    "            method_str = f.read()\n",
    "        methods_description += f'API method {method_i+1}: {method_str}\\n'\n",
    "        method_i += 1\n",
    "\n",
    "        if (method_i % NUM_METHODS_GEN == 0 and method_i != 0) or i == len(methods['basic']) - 1:\n",
    "            with open(PROMPT_COMPONENTS_DIR / 'instruction_onedevice.md', \"r\") as f:\n",
    "                instruction = f.read()\n",
    "            instruction = instruction.replace('{NUM_EXAMPLE_COMMANDS}', str(method_i*EXAMPLES_BASIC_METHOD))\n",
    "            instruction = instruction.replace('{EXAMPLES_BASIC_METHOD}', str(EXAMPLES_BASIC_METHOD))\n",
    "\n",
    "            seed_1 = generate_seed(seeds_df, NUM_METHODS_SEED, NUM_EXAMPLES_SEED)\n",
    "            # seed_description_2 = generate_seed('Light', seeds_df, 1)\n",
    "            \n",
    "            # with open(f'data/prompts/prompt_basic_{device}_{i}.md', \"w\") as f:\n",
    "            #     f.write(f'{instruction}\\n\\n'\n",
    "            #             f'{seed_1}\\n\\n'\n",
    "            #             # f'{seed_description_2}\\n\\n'\n",
    "            #             f'The next device and methods are for you to generate commands:\\n\\n'\n",
    "            #             f'Device: {device} id=444\\n\\n'\n",
    "            #             f'{methods_description}')\n",
    "            prompt_text = (f'{instruction}\\n\\n'\n",
    "                        f'{seed_1}\\n\\n'\n",
    "                        # f'{seed_description_2}\\n\\n'\n",
    "                        f'The next device and methods are for you to generate commands:\\n\\n'\n",
    "                        f'Device: {device} id=444\\n\\n'\n",
    "                        f'{methods_description}')\n",
    "            gen_prompts_df.loc[len(gen_prompts_df)] = pd.Series({'type': 'basic',\n",
    "        'device': device,\n",
    "        'last_mtd_i': i,\n",
    "        'text': prompt_text})\n",
    "\n",
    "            method_i = 0\n",
    "            methods_description = ''\n",
    "    \n",
    "    for i, method_name in enumerate(methods['advance']):\n",
    "        with open(GENERATE_METHODS_DIR / f'{method_name}.md', \"r\") as f:\n",
    "            method_str = f.read()\n",
    "        method_description = f'API method 1:\\n{method_str}\\n'\n",
    "\n",
    "        with open(PROMPT_COMPONENTS_DIR / 'instruction_advance.md', \"r\") as f:\n",
    "            instruction = f.read()\n",
    "        instruction = instruction.replace('{NUM_EXAMPLE_COMMANDS}', str(EXAMPLES_ADVANCE_METHOD))\n",
    "\n",
    "        seed_1 = generate_advance_seed(seeds_df)\n",
    "        \n",
    "        # with open(f'data/prompts/prompt_adv_{device}_{i}.md', \"w\") as f:\n",
    "        #     f.write(f'{instruction}\\n\\n'\n",
    "        #             f'{seed_1}\\n\\n'\n",
    "        #             f'The next device and method are for you to generate commands:\\n\\n'\n",
    "        #             f'Device: {device} id=444\\n\\n'\n",
    "        #             f'{method_description}')\n",
    "\n",
    "        prompt_text = (f'{instruction}\\n\\n'\n",
    "                    f'{seed_1}\\n\\n'\n",
    "                    f'The next device and method are for you to generate commands:\\n\\n'\n",
    "                    f'Device: {device} id=444\\n\\n'\n",
    "                    f'{method_description}')\n",
    "        gen_prompts_df.loc[len(gen_prompts_df)] = pd.Series({'type': 'advance',\n",
    "        'device': device,\n",
    "        'last_mtd_i': i,\n",
    "        'text': prompt_text})\n",
    "\n",
    "gen_prompts_df.to_csv(GEN_PROMPTS_DIR / 'prompts.csv', index=False)"
   ]
  },
  {
   "cell_type": "markdown",
   "metadata": {},
   "source": [
    "# inspection"
   ]
  },
  {
   "cell_type": "code",
   "execution_count": 12,
   "metadata": {},
   "outputs": [],
   "source": [
    "def parse_output(output):\n",
    "    output = json.loads(output)['commands']\n",
    "    df_dict = {'device': [], 'user_cmd': [], 'mtd': [], 'json_cmd': []}\n",
    "    for cmds in list(output.values()):\n",
    "        df_dict['user_cmd'].append(cmds[f'User command'])\n",
    "        df_dict['json_cmd'].append(json.dumps(cmds[f'JSON command']))\n",
    "        df_dict['mtd'].append(f'{cmds[f\"JSON command\"][\"method\"]}')\n",
    "        df_dict['device'].append(f'{cmds[f\"JSON command\"][\"method\"].split(\".\")[0]}')\n",
    "    df = pd.DataFrame(df_dict)\n",
    "    header = not (VAL_PROMPTS_DIR / 'prompts.csv').exists()\n",
    "    df.to_csv(VAL_PROMPTS_DIR / 'prompts.csv', index=False, mode='a', header=header)"
   ]
  },
  {
   "cell_type": "markdown",
   "metadata": {},
   "source": [
    "# dataset generation"
   ]
  },
  {
   "cell_type": "code",
   "execution_count": 9,
   "metadata": {},
   "outputs": [],
   "source": [
    "from openai import OpenAI\n",
    "with open('data/keys/openai.txt') as f:\n",
    "    key = f.read()\n",
    "client = OpenAI(api_key=key)"
   ]
  },
  {
   "cell_type": "code",
   "execution_count": 10,
   "metadata": {},
   "outputs": [],
   "source": [
    "# t = \"\"\"[\n",
    "#     {\"User command\": \"Set the power limit and voltage limit of the bedroom cover to a custom value.\", \"JSON command\": {\"method\": \"Cover.SetConfig\", \"params\": {\"id\": \"id\", \"config\": {\"power_limit\": 500, \"voltage_limit\": 220}}}},\n",
    "#     {\"User command\": \"Adjust the idle power threshold and confirmation period for the living room cover motor.\", \"JSON command\": {\"method\": \"Cover.SetConfig\", \"params\": {\"id\": \"id\", \"config\": {\"motor.idle_power_thr\": 5, \"motor.idle_confirm_period\": 0.5}}}},\n",
    "#     {\"User command\": \"Change the default open and close timeout for the kitchen cover.\", \"JSON command\": {\"method\": \"Cover.SetConfig\", \"params\": {\"id\": \"id\", \"config\": {\"maxtime_open\": 90, \"maxtime_close\": 90}}}},\n",
    "#     {\"User command\": \"Enable obstruction detection and set the power threshold for the bathroom cover.\", \"JSON command\": {\"method\": \"Cover.SetConfig\", \"params\": {\"id\": \"id\", \"config\": {\"obstruction_detection\": {\"enable\": true, \"obstruction_detection.power_thr\": 1200}}}},\n",
    "#     {\"User command\": \"Activate the safety switch feature for the balcony cover and define the direction and action to take if engaged.\", \"JSON command\": {\"method\": \"Cover.SetConfig\", \"params\": {\"id\": \"id\", \"config\": {\"safety_switch\": {\"enable\": true, \"direction\": \"close\", \"action\": \"stop\"}}}}]\"\"\"\n",
    "# json.loads(t)"
   ]
  },
  {
   "cell_type": "code",
   "execution_count": 16,
   "metadata": {},
   "outputs": [
    {
     "name": "stdout",
     "output_type": "stream",
     "text": [
      "You are provided with a device in a smart home, its API methods, their descriptions and required parameters. Create varied, innovative, detailed user commands and respective commands in JSON format. User commands must sound naturally. Command to device must be strictly in JSON format. Generate exactly 3 example commands. For each API method generate 3 commands that use this method. You mustn't hallucinate new API methods. In each pair of user command with JSON command use at least half of possible parametrs. Ask about parameters from reponse output if they exist. Don't add to JSON command parameters that are not mentioned in the user command. Output must be strictly JSON array: {\"commands\": {\"Example 1.1\": {\"User command\": \"...\", \"JSON command\": {...}}, \"Example 1.2\": {\"User command\": \"...\", \"JSON command\": {...}}, \"Example 1.3\": {\"User command\": \"...\", \"JSON command\": {...}}, ...}}. There is example below.\n",
      "\n",
      "\n",
      "The next device, methods and JSON are example:\n",
      "\n",
      "Device: Cover id=33\n",
      "\n",
      "API method 1: Method name: Cover.Close\n",
      "Method description: Preconditions:\n",
      "Cover will not accept the command if:\n",
      "An  overvoltage  error is set at the time of the request.\n",
      "An  undervoltage  error is set at the time of the request.\n",
      "An  overtemp  error is set at the time of the request.\n",
      "An engaged  safety_switch  prohibits movement in the requested direction.\n",
      "Cover  calibration is running at the time of the request\n",
      "Properties:\n",
      "{\"id\": {\"type\": \"number\", \"description\": \"The numeric ID of the Cover component instance\"}, \"duration\": {\"type\": \"number\", \"description\": \"If duration is not provided, Cover will fully close, unless it times out because of maxtime_close first. If duration (seconds) is provided, Cover will move in the close direction for the specified time. duration must be in the range [0.1..maxtime_open]Optional\"}}\n",
      "Response:\n",
      "null on success; error if the request can not be executed or failed\n",
      "\n",
      "API method 2: Method name: Cover.Open\n",
      "Method description: Preconditions:\n",
      "Cover will not accept the command if:\n",
      "An  overvoltage  error is set at the time of the request.\n",
      "An  undervoltage  error is set at the time of the request.\n",
      "An  overtemp  error is set at the time of the request.\n",
      "An engaged  safety_switch  prohibits movement in the requested direction.\n",
      "Cover  calibration is running at the time of the request\n",
      "Properties:\n",
      "{\"id\": {\"type\": \"number\", \"description\": \"The numeric ID of the Cover component instance\"}, \"duration\": {\"type\": \"number\", \"description\": \"If duration is not provided, Cover will fully open, unless it times out because of maxtime_open first. If duration (seconds) is provided, Cover will move in the open direction for the specified time. duration must be in the range [0.1..maxtime_open]Optional\"}}\n",
      "Response:\n",
      "null on success; error if the request can not be executed or failed\n",
      "\n",
      "{\"commands\": {\"Example 1.1\": {\"User command\": \"Close the dining area drapes with a duration of 5 seconds.\", \"JSON command\": {\"method\": \"Cover.Close\", \"params\": {\"id\": 444, \"duration\": 5}}}, \"Example 1.2\": {\"User command\": \"Close the kitchen cover quickly (for 5 seconds).\", \"JSON command\": {\"method\": \"Cover.Close\", \"params\": {\"id\": 444, \"duration\": 5}}}, \"Example 1.3\": {\"User command\": \"Shut the balcony curtains now.\", \"JSON command\": {\"method\": \"Cover.Close\", \"params\": {\"id\": 444}}}, \"Example 2.1\": {\"User command\": \"Can you partially open the kitchen curtains for some sunlight?\", \"JSON command\": {\"method\": \"Cover.Open\", \"params\": {\"id\": 444}}}, \"Example 2.2\": {\"User command\": \"Open the bedroom cover for half of a minute.\", \"JSON command\": {\"method\": \"Cover.Open\", \"params\": {\"id\": 444, \"duration\": 30}}}, \"Example 2.3\": {\"User command\": \"Can you open the bedroom curtains not slowly? Maybe, for 10 seconds.\", \"JSON command\": {\"method\": \"Cover.Open\", \"params\": {\"id\": 444, \"duration\": 10}}}}}\n",
      "\n",
      "The next device and methods are for you to generate commands:\n",
      "\n",
      "Device: Temperature id=444\n",
      "\n",
      "API method 1: Method name: Temperature.SetTemperature\n",
      "Method description: Sets temperature in the room.\n",
      "Properties:\n",
      "{\"id\": {\"type\": \"number\", \"description\": \"Id of the Temperature component instance\"}, \"temp\": {\"type\": \"number\", \"description\": \"Temperature value in Celsius that will be set in the room.\"}}\n",
      "\n",
      "---------------------------------------\n",
      "Temperature:0 parsed!\n",
      "\n",
      "\n",
      "{\"commands\": {\"Example 1.1\": {\"User command\": \"Increase the room temperature to 23 degrees.\", \"JSON command\": {\"method\": \"Temperature.SetTemperature\", \"params\": {\"id\": 444, \"temp\": 23}}}, \"Example 1.2\": {\"User command\": \"Could you lower the temperature to 18 degrees in the living room?\", \"JSON command\": {\"method\": \"Temperature.SetTemperature\", \"params\": {\"id\": 444, \"temp\": 18}}}, \"Example 1.3\": {\"User command\": \"Set the temperature to 20 degrees in the bedroom.\", \"JSON command\": {\"method\": \"Temperature.SetTemperature\", \"params\": {\"id\": 444, \"temp\": 20}}}}}\n",
      "\n",
      "\n",
      "---------------------------------------\n",
      "You are provided with a device in a smart home, its API methods, their descriptions and required parameters. Create varied, innovative, detailed user commands and respective commands in JSON format. User commands must sound naturally. Command to device must be strictly in JSON format. Generate exactly 3 example commands. For each API method generate 3 commands that use this method. You mustn't hallucinate new API methods. In each pair of user command with JSON command use at least half of possible parametrs. Ask about parameters from reponse output if they exist. Don't add to JSON command parameters that are not mentioned in the user command. Output must be strictly JSON array: {\"commands\": {\"Example 1.1\": {\"User command\": \"...\", \"JSON command\": {...}}, \"Example 1.2\": {\"User command\": \"...\", \"JSON command\": {...}}, \"Example 1.3\": {\"User command\": \"...\", \"JSON command\": {...}}, ...}}. There is example below.\n",
      "\n",
      "\n",
      "The next device, methods and JSON are example:\n",
      "\n",
      "Device: Cover id=33\n",
      "\n",
      "API method 1: Method name: Cover.Open\n",
      "Method description: Preconditions:\n",
      "Cover will not accept the command if:\n",
      "An  overvoltage  error is set at the time of the request.\n",
      "An  undervoltage  error is set at the time of the request.\n",
      "An  overtemp  error is set at the time of the request.\n",
      "An engaged  safety_switch  prohibits movement in the requested direction.\n",
      "Cover  calibration is running at the time of the request\n",
      "Properties:\n",
      "{\"id\": {\"type\": \"number\", \"description\": \"The numeric ID of the Cover component instance\"}, \"duration\": {\"type\": \"number\", \"description\": \"If duration is not provided, Cover will fully open, unless it times out because of maxtime_open first. If duration (seconds) is provided, Cover will move in the open direction for the specified time. duration must be in the range [0.1..maxtime_open]Optional\"}}\n",
      "Response:\n",
      "null on success; error if the request can not be executed or failed\n",
      "\n",
      "API method 2: Method name: Cover.Close\n",
      "Method description: Preconditions:\n",
      "Cover will not accept the command if:\n",
      "An  overvoltage  error is set at the time of the request.\n",
      "An  undervoltage  error is set at the time of the request.\n",
      "An  overtemp  error is set at the time of the request.\n",
      "An engaged  safety_switch  prohibits movement in the requested direction.\n",
      "Cover  calibration is running at the time of the request\n",
      "Properties:\n",
      "{\"id\": {\"type\": \"number\", \"description\": \"The numeric ID of the Cover component instance\"}, \"duration\": {\"type\": \"number\", \"description\": \"If duration is not provided, Cover will fully close, unless it times out because of maxtime_close first. If duration (seconds) is provided, Cover will move in the close direction for the specified time. duration must be in the range [0.1..maxtime_open]Optional\"}}\n",
      "Response:\n",
      "null on success; error if the request can not be executed or failed\n",
      "\n",
      "{\"commands\": {\"Example 1.1\": {\"User command\": \"Can you partially open the kitchen curtains for some sunlight?\", \"JSON command\": {\"method\": \"Cover.Open\", \"params\": {\"id\": 444}}}, \"Example 1.2\": {\"User command\": \"Open the patio cover.\", \"JSON command\": {\"method\": \"Cover.Open\", \"params\": {\"id\": 444}}}, \"Example 1.3\": {\"User command\": \"Can you open the cover?\", \"JSON command\": {\"method\": \"Cover.Open\", \"params\": {\"id\": 444}}}, \"Example 2.1\": {\"User command\": \"Close the study room blinds.\", \"JSON command\": {\"method\": \"Cover.Close\", \"params\": {\"id\": 444}}}, \"Example 2.2\": {\"User command\": \"Shut the balcony curtains now.\", \"JSON command\": {\"method\": \"Cover.Close\", \"params\": {\"id\": 444}}}, \"Example 2.3\": {\"User command\": \"Close the bathroom cover.\", \"JSON command\": {\"method\": \"Cover.Close\", \"params\": {\"id\": 444}}}}}\n",
      "\n",
      "The next device and methods are for you to generate commands:\n",
      "\n",
      "Device: Humidity id=444\n",
      "\n",
      "API method 1: Method name: Humidity.SetHumidity\n",
      "Method description:\n",
      "Sets humidity level in a room.\n",
      "Properties:\n",
      "{\"id\": {\"type\": \"number\", \"description\": \"Id of the Humidity component instance\"}, \"humidity\": {\"type\": \"number\", \"description\": \"Humidity to be set in a room specified in %.\"}}\n",
      "\n",
      "---------------------------------------\n",
      "Humidity:0 parsed!\n",
      "\n",
      "\n",
      "{\"commands\": {\"Example 1.1\": {\"User command\": \"Can you increase the humidity in the living room?\", \"JSON command\": {\"method\": \"Humidity.SetHumidity\", \"params\": {\"id\": 444, \"humidity\": 70}}}, \"Example 1.2\": {\"User command\": \"Set the humidity to 50% in the bedroom.\", \"JSON command\": {\"method\": \"Humidity.SetHumidity\", \"params\": {\"id\": 444, \"humidity\": 50}}}, \"Example 1.3\": {\"User command\": \"Decrease the humidity in the kitchen to 40%.\", \"JSON command\": {\"method\": \"Humidity.SetHumidity\", \"params\": {\"id\": 444, \"humidity\": 40}}}}}\n",
      "\n",
      "\n",
      "---------------------------------------\n"
     ]
    }
   ],
   "source": [
    "gen_prompts_df = pd.read_csv(GEN_PROMPTS_DIR / 'prompts.csv')\n",
    "\n",
    "parsed = []\n",
    "for _, r in gen_prompts_df.iterrows():\n",
    "    prompt = r['text']\n",
    "\n",
    "    print(prompt)\n",
    "    print('---------------------------------------')\n",
    "\n",
    "    completion = client.chat.completions.create(\n",
    "        model=\"gpt-3.5-turbo-0125\",\n",
    "        response_format={\"type\": \"json_object\"},\n",
    "        messages=[\n",
    "            {\"role\": \"user\", \"content\": prompt}\n",
    "        ]\n",
    "    )\n",
    "    parse_output(completion.choices[0].message.content)\n",
    "\n",
    "    print(f'{r[\"device\"]}:{r[\"last_mtd_i\"]} parsed!\\n\\n')\n",
    "\n",
    "    print(f'{completion.choices[0].message.content}\\n\\n')\n",
    "    print('---------------------------------------')\n",
    "\n",
    "    parsed.append(f'{r[\"device\"]}:{r[\"last_mtd_i\"]}')\n",
    "\n",
    "    time.sleep(10)"
   ]
  },
  {
   "cell_type": "markdown",
   "metadata": {},
   "source": [
    "# merge dataset"
   ]
  },
  {
   "cell_type": "code",
   "execution_count": 20,
   "metadata": {},
   "outputs": [],
   "source": [
    "dataset_df = pd.read_csv('data/datasets/dataset_v1.csv')\n",
    "generated_df = pd.read_csv('data/prompts/validation/output/prompts.csv')\n",
    "new_df = pd.concat([dataset_df, generated_df], ignore_index=True, axis=0)\n",
    "# new_df['json_cmd'] = new_df['json_cmd'].apply(lambda x: json.dumps(ast.literal_eval(x)))\n",
    "new_df.to_csv('data/datasets/dataset_v2.csv', index=False)"
   ]
  }
 ],
 "metadata": {
  "kernelspec": {
   "display_name": "experiments",
   "language": "python",
   "name": "python3"
  },
  "language_info": {
   "codemirror_mode": {
    "name": "ipython",
    "version": 3
   },
   "file_extension": ".py",
   "mimetype": "text/x-python",
   "name": "python",
   "nbconvert_exporter": "python",
   "pygments_lexer": "ipython3",
   "version": "3.10.13"
  }
 },
 "nbformat": 4,
 "nbformat_minor": 2
}
