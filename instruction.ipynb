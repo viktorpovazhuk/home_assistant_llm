{
 "cells": [
  {
   "cell_type": "code",
   "execution_count": 34,
   "metadata": {},
   "outputs": [],
   "source": [
    "from pathlib import Path\n",
    "import numpy as np\n",
    "import pandas as pd\n",
    "import random\n",
    "import copy\n",
    "import ast\n",
    "import pprint\n",
    "import json\n",
    "import re"
   ]
  },
  {
   "cell_type": "code",
   "execution_count": 2,
   "metadata": {},
   "outputs": [],
   "source": [
    "devices = [\"cover\", \"switch\", \"light\", \"input\", \"temperature\"]\n",
    "devices = [device.capitalize() for device in devices]"
   ]
  },
  {
   "cell_type": "markdown",
   "metadata": {},
   "source": [
    "# seeds generation"
   ]
  },
  {
   "cell_type": "code",
   "execution_count": 13,
   "metadata": {},
   "outputs": [],
   "source": [
    "target_device = devices[2]\n",
    "\n",
    "with open('prompts/prompt.md', \"w\") as f:\n",
    "    f.write(f'')\n",
    "\n",
    "with open('prompts/instruction_onedevice.md', \"r\") as f:\n",
    "    instruction = f.read()\n",
    "with open('prompts/seeds_multiapi.md', \"r\") as f:\n",
    "    seeds = f.read()\n",
    "\n",
    "with open('prompts/prompt.md', \"a\") as f:\n",
    "    f.write(f'{instruction}\\n\\n'\n",
    "            f'Example:\\n\\n{seeds}\\n\\n'\n",
    "            f'For generation: \\n\\n'\n",
    "            f'Device: {target_device} id=XXX\\n\\n')\n",
    "\n",
    "row_i = 0\n",
    "for p in Path('docs/').iterdir():\n",
    "    if target_device in p.name and p.name != f'{target_device}.md':\n",
    "        with open(p, \"r\") as f:\n",
    "            method_str = f.read()\n",
    "        with open('prompts/prompt.md', \"a\") as f:\n",
    "            f.write(f'API method {row_i}: {method_str}\\n')\n",
    "        row_i += 1\n",
    "    if row_i == 5:\n",
    "        break\n",
    "\n",
    "# with open('prompts/prompt.md', \"a\") as f:\n",
    "#     f.write(f'User command 0:')"
   ]
  },
  {
   "cell_type": "code",
   "execution_count": 21,
   "metadata": {},
   "outputs": [],
   "source": []
  },
  {
   "cell_type": "code",
   "execution_count": 49,
   "metadata": {},
   "outputs": [],
   "source": [
    "output = \"\"\"[{\"User command 0.1\": \"Reset the energy counter for the main light.\", \"JSON command 0.1\": {\"method\": \"Light.ResetCounters\", \"params\": {\"id\": \"id\", \"type\": [\"energy\"]}}}, {\"User command 0.2\": \"Reset the all counter for the light, please.\", \"JSON command 0.2\": {\"method\": \"Light.ResetCounters\", \"params\": {\"id\": \"id\"}}}, {\"User command 1.1\" : \"Could you please fetch the configuration details for the living room light, including its name, night mode settings, and transition duration?\", \"JSON command 1.1\": {\"method\": \"Light.GetConfig\", \"params\": {\"id\": \"id\"}}}, {\"User command 1.2\" : \"Tell me, what is transition duration for the main light?\", \"JSON command 1.2\": {\"method\": \"Light.GetConfig\", \"params\": {\"id\": \"id\"}}}]\"\"\"\n",
    "output = output.replace(\"XXX\", '\"id\"')"
   ]
  },
  {
   "cell_type": "code",
   "execution_count": 50,
   "metadata": {},
   "outputs": [],
   "source": [
    "output = re.sub(r'(User command \\d\\.\\d)', 'User command', output)\n",
    "output = re.sub(r'(JSON command \\d\\.\\d)', 'JSON command', output)"
   ]
  },
  {
   "cell_type": "code",
   "execution_count": 51,
   "metadata": {},
   "outputs": [
    {
     "name": "stdout",
     "output_type": "stream",
     "text": [
      "[{\"User command\": \"Reset the energy counter for the main light.\", \"JSON command\": {\"method\": \"Light.ResetCounters\", \"params\": {\"id\": \"id\", \"type\": [\"energy\"]}}}, {\"User command\": \"Reset the all counter for the light, please.\", \"JSON command\": {\"method\": \"Light.ResetCounters\", \"params\": {\"id\": \"id\"}}}, {\"User command\" : \"Could you please fetch the configuration details for the living room light, including its name, night mode settings, and transition duration?\", \"JSON command\": {\"method\": \"Light.GetConfig\", \"params\": {\"id\": \"id\"}}}, {\"User command\" : \"Tell me, what is transition duration for the main light?\", \"JSON command\": {\"method\": \"Light.GetConfig\", \"params\": {\"id\": \"id\"}}}]\n"
     ]
    }
   ],
   "source": [
    "print(output)"
   ]
  },
  {
   "cell_type": "code",
   "execution_count": 52,
   "metadata": {},
   "outputs": [],
   "source": [
    "import json"
   ]
  },
  {
   "cell_type": "code",
   "execution_count": 53,
   "metadata": {},
   "outputs": [],
   "source": [
    "cmds = json.loads(output)"
   ]
  },
  {
   "cell_type": "code",
   "execution_count": 54,
   "metadata": {},
   "outputs": [
    {
     "data": {
      "text/plain": [
       "'[{\"User command\": \"Reset the energy counter for the main light.\", \"JSON command\": {\"method\": \"Light.ResetCounters\", \"params\": {\"id\": \"id\", \"type\": [\"energy\"]}}}, {\"User command\": \"Reset the all counter for the light, please.\", \"JSON command\": {\"method\": \"Light.ResetCounters\", \"params\": {\"id\": \"id\"}}}, {\"User command\": \"Could you please fetch the configuration details for the living room light, including its name, night mode settings, and transition duration?\", \"JSON command\": {\"method\": \"Light.GetConfig\", \"params\": {\"id\": \"id\"}}}, {\"User command\": \"Tell me, what is transition duration for the main light?\", \"JSON command\": {\"method\": \"Light.GetConfig\", \"params\": {\"id\": \"id\"}}}]'"
      ]
     },
     "execution_count": 54,
     "metadata": {},
     "output_type": "execute_result"
    }
   ],
   "source": [
    "json.dumps(cmds)"
   ]
  },
  {
   "cell_type": "code",
   "execution_count": 55,
   "metadata": {},
   "outputs": [
    {
     "name": "stdout",
     "output_type": "stream",
     "text": [
      "{'device': ['Light', 'Light', 'Light', 'Light'], 'user_cmd': ['Reset the energy counter for the main light.', 'Reset the all counter for the light, please.', 'Could you please fetch the configuration details for the living room light, including its name, night mode settings, and transition duration?', 'Tell me, what is transition duration for the main light?'], 'used_mtd': ['Light.ResetCounters', 'Light.ResetCounters', 'Light.GetConfig', 'Light.GetConfig'], 'json_cmd': [{'method': 'Light.ResetCounters', 'params': {'id': 'id', 'type': ['energy']}}, {'method': 'Light.ResetCounters', 'params': {'id': 'id'}}, {'method': 'Light.GetConfig', 'params': {'id': 'id'}}, {'method': 'Light.GetConfig', 'params': {'id': 'id'}}]}\n"
     ]
    }
   ],
   "source": [
    "df_dict = {'device': [], 'user_cmd': [], 'used_mtd': [], 'json_cmd': []}\n",
    "for row_i in range(len(cmds)):\n",
    "    df_dict['user_cmd'].append(cmds[row_i][f'User command'])\n",
    "    df_dict['json_cmd'].append(cmds[row_i][f'JSON command'])\n",
    "    df_dict['used_mtd'].append(f'{cmds[row_i][f\"JSON command\"][\"method\"]}')\n",
    "    df_dict['device'].append(target_device)\n",
    "print(df_dict)"
   ]
  },
  {
   "cell_type": "code",
   "execution_count": 56,
   "metadata": {},
   "outputs": [],
   "source": [
    "data_path = Path('data/')"
   ]
  },
  {
   "cell_type": "code",
   "execution_count": 57,
   "metadata": {},
   "outputs": [],
   "source": [
    "\n",
    "df = pd.DataFrame(df_dict)\n",
    "df.to_csv(data_path / f'prompt_seeds.csv', index=False, mode='a', header=False)"
   ]
  },
  {
   "cell_type": "markdown",
   "metadata": {},
   "source": [
    "# prompt generation"
   ]
  },
  {
   "cell_type": "code",
   "execution_count": 5,
   "metadata": {},
   "outputs": [],
   "source": [
    "import pprint"
   ]
  },
  {
   "cell_type": "code",
   "execution_count": 13,
   "metadata": {},
   "outputs": [
    {
     "name": "stdout",
     "output_type": "stream",
     "text": [
      "{'Cover': {'advance': ['Cover.GetConfig', 'Cover.SetConfig', 'Cover.GetStatus'],\n",
      "           'basic': ['Cover.Stop',\n",
      "                     'Cover.Calibrate',\n",
      "                     'Cover.GoToPosition',\n",
      "                     'Cover.ResetCounters',\n",
      "                     'Cover.Open',\n",
      "                     'Cover.Close']},\n",
      " 'Input': {'advance': ['Input.GetConfig', 'Input.SetConfig', 'Input.GetStatus'],\n",
      "           'basic': ['Input.CheckExpression', 'Input.ResetCounters']},\n",
      " 'Light': {'advance': ['Light.GetConfig', 'Light.GetStatus', 'Light.SetConfig'],\n",
      "           'basic': ['Light.ResetCounters',\n",
      "                     'Light.Set',\n",
      "                     'Light.Toggle',\n",
      "                     'Light.Calibrate']},\n",
      " 'Switch': {'advance': ['Switch.SetConfig',\n",
      "                        'Switch.GetStatus',\n",
      "                        'Switch.GetConfig'],\n",
      "            'basic': ['Switch.Toggle', 'Switch.ResetCounters', 'Switch.Set']},\n",
      " 'Temperature': {'advance': ['Temperature.GetConfig',\n",
      "                             'Temperature.SetConfig',\n",
      "                             'Temperature.GetStatus'],\n",
      "                 'basic': []}}\n"
     ]
    }
   ],
   "source": [
    "device_methods_dict = {device: {'basic': [], 'advance': []} for device in devices}\n",
    "advance_methods = ['GetConfig', 'SetConfig', 'GetStatus']\n",
    "for p in Path('data/docs/methods').iterdir():\n",
    "    for d in devices:\n",
    "        if d in p.name:\n",
    "            if p.stem.split('.')[1] in advance_methods:\n",
    "                device_methods_dict[d]['advance'].append(p.stem)\n",
    "            else:\n",
    "                device_methods_dict[d]['basic'].append(p.stem)         \n",
    "pprint.pprint(device_methods_dict)"
   ]
  },
  {
   "cell_type": "code",
   "execution_count": 30,
   "metadata": {},
   "outputs": [],
   "source": [
    "def generate_seed(device, seeds_df, num_seeds=2):\n",
    "    seed_methods = random.sample(list(seeds_df[seeds_df['device'] == device]['used_mtd'].unique()), num_seeds)\n",
    "    methods_description = ''\n",
    "    cmds = []\n",
    "    for method_i, method in enumerate(seed_methods):\n",
    "        with open(f'data/docs/methods/{method}.md', \"r\") as f:\n",
    "            method_str = f.read()\n",
    "        methods_description += f'API method {method_i+1}: {method_str}\\n'\n",
    "        seed_ids = random.sample(list(seeds_df[seeds_df['used_mtd'] == method].index), 2)\n",
    "        for seed_i, row_i in enumerate(seed_ids):\n",
    "            cmds.append(\n",
    "                {f'User command {method_i+1}.{seed_i+1}': seeds_df.loc[row_i, 'user_cmd'],\n",
    "                 f'JSON command {method_i+1}.{seed_i+1}': ast.literal_eval(seeds_df.loc[row_i, 'json_cmd'].replace(\"'\", '\"'))}\n",
    "            )\n",
    "    seed_description = (\n",
    "        f'The next device, methods and JSON are example:\\n\\n'\n",
    "        f'Device: {device} id=33\\n\\n'\n",
    "        f'{methods_description}'\n",
    "        f'{json.dumps(cmds)}'\n",
    "    )\n",
    "    return seed_description\n",
    "\n",
    "def generate_advance_seed(device, seeds_df):\n",
    "    method = random.choice(list(seeds_df[seeds_df['device'] == device]['used_mtd'].unique()))\n",
    "    cmds = []\n",
    "    with open(f'data/docs/methods/{method}.md', \"r\") as f:\n",
    "        method_str = f.read()\n",
    "    method_description = f'API method 1:\\n{method_str}\\n'\n",
    "    sample_methods_ids = list(seeds_df[seeds_df['used_mtd'] == method].index)\n",
    "    seed_ids = random.sample(sample_methods_ids, min(4, len(sample_methods_ids)))\n",
    "    for seed_i, row_i in enumerate(seed_ids):\n",
    "        cmds.append(\n",
    "            {f'User command {seed_i+1}': seeds_df.loc[row_i, 'user_cmd'],\n",
    "            f'JSON command {seed_i+1}': ast.literal_eval(seeds_df.loc[row_i, 'json_cmd'].replace(\"'\", '\"'))}\n",
    "        )\n",
    "    seed_description = (\n",
    "        f'The next device, methods and JSON are example:\\n\\n'\n",
    "        f'Device: {device} id=33\\n\\n'\n",
    "        f'{method_description}'\n",
    "        f'{json.dumps(cmds)}'\n",
    "    )\n",
    "    return seed_description"
   ]
  },
  {
   "cell_type": "code",
   "execution_count": 31,
   "metadata": {},
   "outputs": [
    {
     "name": "stdout",
     "output_type": "stream",
     "text": [
      "The next device, methods and JSON are example:\n",
      "\n",
      "Device: Light id=33\n",
      "\n",
      "API method 1: Method name: Light.ResetCounters\n",
      "Method description: This method resets associated counters (if applicable).\n",
      "Request\n",
      "Parameters:\n",
      "{\"id\": {\"type\": \"number\", \"description\": \"Id of the Light component instance. Required\"}, \"type\": {\"type\": \"array of strings\", \"description\": \"Array of strings, selects which counter to reset Optional\"}}\n",
      "Note. If no 'type' is provided, the method will reset all available counters.\n",
      "Response\n",
      "Attributes in the result:\n",
      "{\"aenergy\": {\"type\": \"object\", \"description\": \"Information about the active energy counter prior to reset\", \"properties\": \"{\\\"total\\\": {\\\"type\\\": \\\"number\\\", \\\"description\\\": \\\"Last counter value of the total energy consumed in Watt-hours\\\"}}\"}}\n",
      "\n",
      "API method 2: Method name: Light.Set\n",
      "Method description: This method sets the output and brightness level of the Light component. It can be used to trigger webhooks. More information about the events triggering webhooks available for this component can be found below.\n",
      "Request\n",
      "Parameters:\n",
      "{\"id\": {\"type\": \"number\", \"description\": \"Id of the Light component instance. Required\"}, \"on\": {\"type\": \"boolean\", \"description\": \"True for light on, false otherwise. Optional\"}, \"brightness\": {\"type\": \"number\", \"description\": \"Brightness level Optional\"}, \"transition_duration\": {\"type\": \"number\", \"description\": \"Transition time in seconds - time between change from current brightness level to desired brightness level in request Optional\"}, \"toggle_after\": {\"type\": \"number\", \"description\": \"Optional flip-back timer in seconds. Optional\"}}\n",
      "Info. At least one of the on and brightness parameters is required.\n",
      "\n",
      "[{\"User command 1.1\": \"Reset the counter for the main light.\", \"JSON command 1.1\": {\"method\": \"Light.ResetCounters\", \"params\": {\"id\": 33}}}, {\"User command 1.2\": \"Reset all counters for the light, please.\", \"JSON command 1.2\": {\"method\": \"Light.ResetCounters\", \"params\": {\"id\": 33}}}, {\"User command 2.1\": \"Set the bedroom light to 60% brightness with a transition duration of 8 seconds.\", \"JSON command 2.1\": {\"method\": \"Light.Set\", \"params\": {\"id\": 33, \"brightness\": 60, \"transition_duration\": 8}}}, {\"User command 2.2\": \"Set the main light to 80% brightness with a transition duration of 5 seconds.\", \"JSON command 2.2\": {\"method\": \"Light.Set\", \"params\": {\"id\": 33, \"brightness\": 80, \"transition_duration\": 5}}}]\n"
     ]
    }
   ],
   "source": [
    "seeds_df = pd.read_csv('data/prompt_seeds.csv')\n",
    "# json.loads(seeds_df.loc[0, 'json_cmd'].replace(\"'\", '\"'))['method']\n",
    "# f\"dict: {json.dumps(ast.literal_eval(seeds_df.loc[0, 'json_cmd']))}\"\n",
    "print(generate_seed('Light', seeds_df))"
   ]
  },
  {
   "cell_type": "code",
   "execution_count": 68,
   "metadata": {},
   "outputs": [],
   "source": [
    "NUM_METHODS_GEN = 2\n",
    "NUM_METHODS_SEED = 2\n",
    "EXAMPLES_BASIC_METHOD = 2\n",
    "EXAMPLES_ADVANCE_METHOD = 8"
   ]
  },
  {
   "cell_type": "code",
   "execution_count": 69,
   "metadata": {},
   "outputs": [],
   "source": [
    "seeds_df = pd.read_csv('data/prompt_seeds.csv')\n",
    "\n",
    "for device, methods in device_methods_dict.items():\n",
    "    method_i = 0\n",
    "    methods_description = ''\n",
    "\n",
    "    for i, method_name in enumerate(methods['basic']):\n",
    "        with open(f'data/docs/methods/{method_name}.md', \"r\") as f:\n",
    "            method_str = f.read()\n",
    "        methods_description += f'API method {method_i+1}: {method_str}\\n'\n",
    "        method_i += 1\n",
    "\n",
    "        if (method_i % NUM_METHODS_GEN == 0 and method_i != 0) or i == len(methods) - 1:\n",
    "            with open('data/prompts/components/instruction_onedevice.md', \"r\") as f:\n",
    "                instruction = f.read()\n",
    "            instruction = instruction.replace('{NUM_EXAMPLE_COMMANDS}', str(method_i*EXAMPLES_BASIC_METHOD))\n",
    "\n",
    "            seed_1 = generate_seed('Light', seeds_df, NUM_METHODS_SEED)\n",
    "            # seed_description_2 = generate_seed('Light', seeds_df, 1)\n",
    "            \n",
    "            with open(f'data/prompts/prompt_basic_{device}_{i}.md', \"w\") as f:\n",
    "                f.write(f'{instruction}\\n\\n'\n",
    "                        f'{seed_1}\\n\\n'\n",
    "                        # f'{seed_description_2}\\n\\n'\n",
    "                        f'The next device and methods are for you to generate commands:\\n\\n'\n",
    "                        f'Device: {device} id=XXX\\n\\n'\n",
    "                        f'{methods_description}')\n",
    "                \n",
    "            method_i = 0\n",
    "            methods_description = ''\n",
    "    \n",
    "    for i, method_name in enumerate(methods['advance']):\n",
    "        with open(f'data/docs/methods/{method_name}.md', \"r\") as f:\n",
    "            method_str = f.read()\n",
    "        method_description = f'API method 1:\\n{method_str}\\n'\n",
    "\n",
    "        with open('data/prompts/components/instruction_advance.md', \"r\") as f:\n",
    "            instruction = f.read()\n",
    "        instruction = instruction.replace('{NUM_EXAMPLE_COMMANDS}', str(EXAMPLES_ADVANCE_METHOD))\n",
    "\n",
    "        seed_1 = generate_advance_seed('Light', seeds_df)\n",
    "        \n",
    "        with open(f'data/prompts/prompt_adv_{device}_{i}.md', \"w\") as f:\n",
    "            f.write(f'{instruction}\\n\\n'\n",
    "                    f'{seed_1}\\n\\n'\n",
    "                    f'The next device and method are for you to generate commands:\\n\\n'\n",
    "                    f'Device: {device} id=XXX\\n\\n'\n",
    "                    f'{method_description}')"
   ]
  },
  {
   "cell_type": "code",
   "execution_count": 82,
   "metadata": {},
   "outputs": [],
   "source": [
    "output = \"\"\"[{\"User command 1.1\": \"Stop the operation of the main cover immediately.\", \"JSON command 1.1\": {\"method\": \"Cover.Stop\", \"params\": {\"id\": XXX}}}, {\"User command 1.2\": \"Stop the kitchen cover now.\", \"JSON command 1.2\": {\"method\": \"Cover.Stop\", \"params\": {\"id\": XXX}}}, {\"User command 2.1\": \"Initiate the calibration procedure for the bedroom cover.\", \"JSON command 2.1\": {\"method\": \"Cover.Calibrate\", \"params\": {\"id\": XXX}}}, {\"User command 2.2\": \"Start the calibration process for the living room cover.\", \"JSON command 2.2\": {\"method\": \"Cover.Calibrate\", \"params\": {\"id\": XXX}}}]\"\"\"\n",
    "output = output.replace(\"XXX\", '\"id\"')"
   ]
  },
  {
   "cell_type": "code",
   "execution_count": 83,
   "metadata": {},
   "outputs": [],
   "source": [
    "output = re.sub(r'(User command \\d*(\\.\\d*)?)', 'User command', output)\n",
    "output = re.sub(r'(JSON command \\d*(\\.\\d*)?)', 'JSON command', output)"
   ]
  },
  {
   "cell_type": "code",
   "execution_count": 84,
   "metadata": {},
   "outputs": [
    {
     "name": "stdout",
     "output_type": "stream",
     "text": [
      "[{\"User command\": \"Stop the operation of the main cover immediately.\", \"JSON command\": {\"method\": \"Cover.Stop\", \"params\": {\"id\": \"id\"}}}, {\"User command\": \"Stop the kitchen cover now.\", \"JSON command\": {\"method\": \"Cover.Stop\", \"params\": {\"id\": \"id\"}}}, {\"User command\": \"Initiate the calibration procedure for the bedroom cover.\", \"JSON command\": {\"method\": \"Cover.Calibrate\", \"params\": {\"id\": \"id\"}}}, {\"User command\": \"Start the calibration process for the living room cover.\", \"JSON command\": {\"method\": \"Cover.Calibrate\", \"params\": {\"id\": \"id\"}}}]\n"
     ]
    }
   ],
   "source": [
    "print(output)"
   ]
  },
  {
   "cell_type": "code",
   "execution_count": 85,
   "metadata": {},
   "outputs": [],
   "source": [
    "cmds = json.loads(output)"
   ]
  },
  {
   "cell_type": "code",
   "execution_count": 86,
   "metadata": {},
   "outputs": [
    {
     "name": "stdout",
     "output_type": "stream",
     "text": [
      "{'device': ['Cover', 'Cover', 'Cover', 'Cover'], 'user_cmd': ['Stop the operation of the main cover immediately.', 'Stop the kitchen cover now.', 'Initiate the calibration procedure for the bedroom cover.', 'Start the calibration process for the living room cover.'], 'used_mtd': ['Cover.Stop', 'Cover.Stop', 'Cover.Calibrate', 'Cover.Calibrate'], 'json_cmd': [{'method': 'Cover.Stop', 'params': {'id': 'id'}}, {'method': 'Cover.Stop', 'params': {'id': 'id'}}, {'method': 'Cover.Calibrate', 'params': {'id': 'id'}}, {'method': 'Cover.Calibrate', 'params': {'id': 'id'}}]}\n"
     ]
    }
   ],
   "source": [
    "df_dict = {'device': [], 'user_cmd': [], 'used_mtd': [], 'json_cmd': []}\n",
    "for row_i in range(len(cmds)):\n",
    "    df_dict['user_cmd'].append(cmds[row_i][f'User command'])\n",
    "    df_dict['json_cmd'].append(cmds[row_i][f'JSON command'])\n",
    "    df_dict['used_mtd'].append(f'{cmds[row_i][f\"JSON command\"][\"method\"]}')\n",
    "    df_dict['device'].append(f'{cmds[row_i][f\"JSON command\"][\"method\"].split(\".\")[0]}')\n",
    "print(df_dict)"
   ]
  },
  {
   "cell_type": "code",
   "execution_count": 87,
   "metadata": {},
   "outputs": [],
   "source": [
    "df = pd.DataFrame(df_dict)\n",
    "df.to_csv('data/temp.csv', index=False, mode='a', header=False)"
   ]
  },
  {
   "cell_type": "code",
   "execution_count": null,
   "metadata": {},
   "outputs": [],
   "source": []
  }
 ],
 "metadata": {
  "kernelspec": {
   "display_name": "experiments",
   "language": "python",
   "name": "python3"
  },
  "language_info": {
   "codemirror_mode": {
    "name": "ipython",
    "version": 3
   },
   "file_extension": ".py",
   "mimetype": "text/x-python",
   "name": "python",
   "nbconvert_exporter": "python",
   "pygments_lexer": "ipython3",
   "version": "3.9.18"
  }
 },
 "nbformat": 4,
 "nbformat_minor": 2
}
