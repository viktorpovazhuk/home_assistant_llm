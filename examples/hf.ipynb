{
 "cells": [
  {
   "cell_type": "code",
   "execution_count": 1,
   "metadata": {},
   "outputs": [
    {
     "name": "stderr",
     "output_type": "stream",
     "text": [
      "/home/viktor/miniconda3/envs/experiments/lib/python3.9/site-packages/tqdm/auto.py:21: TqdmWarning: IProgress not found. Please update jupyter and ipywidgets. See https://ipywidgets.readthedocs.io/en/stable/user_install.html\n",
      "  from .autonotebook import tqdm as notebook_tqdm\n"
     ]
    }
   ],
   "source": [
    "from transformers import AutoTokenizer, AutoModelForCausalLM, BitsAndBytesConfig\n",
    "import torch\n",
    "from pathlib import Path"
   ]
  },
  {
   "cell_type": "code",
   "execution_count": 2,
   "metadata": {},
   "outputs": [],
   "source": [
    "with open('../data/keys/hf_key.txt') as f:\n",
    "    hf_key = f.read()"
   ]
  },
  {
   "cell_type": "code",
   "execution_count": 3,
   "metadata": {},
   "outputs": [],
   "source": [
    "tokenizer = AutoTokenizer.from_pretrained(\"google/gemma-1.1-2b-it\")"
   ]
  },
  {
   "cell_type": "code",
   "execution_count": null,
   "metadata": {},
   "outputs": [],
   "source": [
    "llm = AutoModelForCausalLM.from_pretrained(\n",
    "    \"google/gemma-1.1-2b-it\"\n",
    ")"
   ]
  },
  {
   "cell_type": "code",
   "execution_count": 8,
   "metadata": {},
   "outputs": [
    {
     "name": "stdout",
     "output_type": "stream",
     "text": [
      "[2, 106, 2516]\n"
     ]
    },
    {
     "data": {
      "text/plain": [
       "'<bos><start_of_turn>model'"
      ]
     },
     "execution_count": 8,
     "metadata": {},
     "output_type": "execute_result"
    }
   ],
   "source": [
    "o = tokenizer.encode(\"<start_of_turn>model\")\n",
    "print(o)\n",
    "tokenizer.decode(o)"
   ]
  },
  {
   "cell_type": "code",
   "execution_count": 14,
   "metadata": {},
   "outputs": [
    {
     "name": "stdout",
     "output_type": "stream",
     "text": [
      "[2, 2, 106, 1645, 108, 5559, 476, 25612, 2134, 2733, 107, 108, 106, 2516]\n"
     ]
    },
    {
     "data": {
      "text/plain": [
       "'<bos><bos><start_of_turn>user\\nWrite a hello world program<end_of_turn>\\n<start_of_turn>model'"
      ]
     },
     "execution_count": 14,
     "metadata": {},
     "output_type": "execute_result"
    }
   ],
   "source": [
    "o = tokenizer.encode(\"\"\"<bos><start_of_turn>user\n",
    "Write a hello world program<end_of_turn>\n",
    "<start_of_turn>model\"\"\")\n",
    "print(o)\n",
    "tokenizer.decode(o)"
   ]
  },
  {
   "cell_type": "code",
   "execution_count": 13,
   "metadata": {},
   "outputs": [
    {
     "data": {
      "text/plain": [
       "[106, 2516]"
      ]
     },
     "execution_count": 13,
     "metadata": {},
     "output_type": "execute_result"
    }
   ],
   "source": [
    "response_template_with_context = \"<start_of_turn>model\"\n",
    "response_template_ids = tokenizer.encode(response_template_with_context, add_special_tokens=False)\n",
    "response_template_ids"
   ]
  },
  {
   "cell_type": "code",
   "execution_count": 3,
   "metadata": {},
   "outputs": [
    {
     "data": {
      "application/vnd.jupyter.widget-view+json": {
       "model_id": "525a5f995e074e1d89cdae4cfdfc9e1e",
       "version_major": 2,
       "version_minor": 0
      },
      "text/plain": [
       "Loading checkpoint shards:   0%|          | 0/4 [00:00<?, ?it/s]"
      ]
     },
     "metadata": {},
     "output_type": "display_data"
    },
    {
     "name": "stdout",
     "output_type": "stream",
     "text": [
      "<bos><start_of_turn>user\n",
      "Write me a poem about Machine Learning as a valid JSON.<end_of_turn>\n",
      "<start_of_turn>model\n",
      "```json\n",
      "{\n",
      "  \"title\": \"Machine Learning\",\n",
      "  \"author\": \"AI Poet\",\n",
      "  \"version\": \"1.0\",\n",
      "  \"content\": [\n",
      "    {\n",
      "      \"line\": \"Algorithms learn from data's sway\",\n",
      "      \"meta\": {\n",
      "        \"sentiment\": \"positive\",\n",
      "        \"tone\": \"informative\"\n",
      "      }\n",
      "    },\n",
      "    {\n",
      "      \"line\": \"Patterns emerge, a hidden display\",\n",
      "      \"meta\": {\n",
      "        \"sentiment\": \"curious\",\n",
      "        \"tone\": \"analytical\"\n",
      "      }\n",
      "    },\n",
      "    {\n",
      "      \"line\": \"Predictions crafted, future's in sight\",\n",
      "      \"meta\": {\n",
      "        \"sentiment\": \"hopeful\",\n",
      "        \"tone\": \"optimistic\"\n",
      "      }\n",
      "    },\n",
      "    {\n",
      "      \"line\": \"Learning evolves, a constant refrain\",\n",
      "      \"meta\": {\n",
      "        \"sentiment\": \"inspiring\",\n",
      "        \"tone\": \"reflective\"\n",
      "      }\n",
      "    }\n",
      "  ]\n",
      "}\n",
      "```<eos>\n"
     ]
    }
   ],
   "source": [
    "tokenizer = AutoTokenizer.from_pretrained(\"../models\")\n",
    "\n",
    "bnb_config = BitsAndBytesConfig(\n",
    "    load_in_4bit=True,\n",
    "    bnb_4bit_compute_dtype=torch.float16\n",
    ")\n",
    "model = AutoModelForCausalLM.from_pretrained(\n",
    "    \"/home/vpo/batchelor_thesis/models\",\n",
    "    device_map=\"auto\",\n",
    "    quantization_config=bnb_config,\n",
    ")\n",
    "\n",
    "chat = [\n",
    "    {\"role\": \"user\", \"content\": \"Write me a poem about Machine Learning as a valid JSON.\"}\n",
    "]\n",
    "token_inputs = tokenizer.apply_chat_template(chat, tokenize=True, return_tensors=\"pt\", add_generation_prompt=True).to(\"cuda\")\n",
    "\n",
    "outputs = model.generate(input_ids=token_inputs, do_sample=True, max_new_tokens=500, temperature=.5)\n",
    "\n",
    "\n",
    "print(tokenizer.decode(outputs[0]))"
   ]
  }
 ],
 "metadata": {
  "kernelspec": {
   "display_name": "assistant",
   "language": "python",
   "name": "python3"
  },
  "language_info": {
   "codemirror_mode": {
    "name": "ipython",
    "version": 3
   },
   "file_extension": ".py",
   "mimetype": "text/x-python",
   "name": "python",
   "nbconvert_exporter": "python",
   "pygments_lexer": "ipython3",
   "version": "3.9.18"
  }
 },
 "nbformat": 4,
 "nbformat_minor": 2
}
