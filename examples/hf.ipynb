{
 "cells": [
  {
   "cell_type": "code",
   "execution_count": 1,
   "metadata": {},
   "outputs": [],
   "source": [
    "from transformers import AutoTokenizer, AutoModelForCausalLM, BitsAndBytesConfig\n",
    "import torch\n",
    "from pathlib import Path"
   ]
  },
  {
   "cell_type": "code",
   "execution_count": 2,
   "metadata": {},
   "outputs": [],
   "source": [
    "with open('../data/keys/hf_key.txt') as f:\n",
    "    hf_key = f.read()"
   ]
  },
  {
   "cell_type": "code",
   "execution_count": 3,
   "metadata": {},
   "outputs": [
    {
     "data": {
      "application/vnd.jupyter.widget-view+json": {
       "model_id": "525a5f995e074e1d89cdae4cfdfc9e1e",
       "version_major": 2,
       "version_minor": 0
      },
      "text/plain": [
       "Loading checkpoint shards:   0%|          | 0/4 [00:00<?, ?it/s]"
      ]
     },
     "metadata": {},
     "output_type": "display_data"
    },
    {
     "name": "stdout",
     "output_type": "stream",
     "text": [
      "<bos><start_of_turn>user\n",
      "Write me a poem about Machine Learning as a valid JSON.<end_of_turn>\n",
      "<start_of_turn>model\n",
      "```json\n",
      "{\n",
      "  \"title\": \"Machine Learning\",\n",
      "  \"author\": \"AI Poet\",\n",
      "  \"version\": \"1.0\",\n",
      "  \"content\": [\n",
      "    {\n",
      "      \"line\": \"Algorithms learn from data's sway\",\n",
      "      \"meta\": {\n",
      "        \"sentiment\": \"positive\",\n",
      "        \"tone\": \"informative\"\n",
      "      }\n",
      "    },\n",
      "    {\n",
      "      \"line\": \"Patterns emerge, a hidden display\",\n",
      "      \"meta\": {\n",
      "        \"sentiment\": \"curious\",\n",
      "        \"tone\": \"analytical\"\n",
      "      }\n",
      "    },\n",
      "    {\n",
      "      \"line\": \"Predictions crafted, future's in sight\",\n",
      "      \"meta\": {\n",
      "        \"sentiment\": \"hopeful\",\n",
      "        \"tone\": \"optimistic\"\n",
      "      }\n",
      "    },\n",
      "    {\n",
      "      \"line\": \"Learning evolves, a constant refrain\",\n",
      "      \"meta\": {\n",
      "        \"sentiment\": \"inspiring\",\n",
      "        \"tone\": \"reflective\"\n",
      "      }\n",
      "    }\n",
      "  ]\n",
      "}\n",
      "```<eos>\n"
     ]
    }
   ],
   "source": [
    "tokenizer = AutoTokenizer.from_pretrained(\"../models\")\n",
    "\n",
    "bnb_config = BitsAndBytesConfig(\n",
    "    load_in_4bit=True,\n",
    "    bnb_4bit_compute_dtype=torch.float16\n",
    ")\n",
    "model = AutoModelForCausalLM.from_pretrained(\n",
    "    \"/home/vpo/batchelor_thesis/models\",\n",
    "    device_map=\"auto\",\n",
    "    quantization_config=bnb_config,\n",
    ")\n",
    "\n",
    "chat = [\n",
    "    {\"role\": \"user\", \"content\": \"Write me a poem about Machine Learning as a valid JSON.\"}\n",
    "]\n",
    "token_inputs = tokenizer.apply_chat_template(chat, tokenize=True, return_tensors=\"pt\", add_generation_prompt=True).to(\"cuda\")\n",
    "\n",
    "outputs = model.generate(input_ids=token_inputs, do_sample=True, max_new_tokens=500, temperature=.5)\n",
    "\n",
    "\n",
    "print(tokenizer.decode(outputs[0]))"
   ]
  }
 ],
 "metadata": {
  "kernelspec": {
   "display_name": "assistant",
   "language": "python",
   "name": "python3"
  },
  "language_info": {
   "codemirror_mode": {
    "name": "ipython",
    "version": 3
   },
   "file_extension": ".py",
   "mimetype": "text/x-python",
   "name": "python",
   "nbconvert_exporter": "python",
   "pygments_lexer": "ipython3",
   "version": "3.10.13"
  }
 },
 "nbformat": 4,
 "nbformat_minor": 2
}
