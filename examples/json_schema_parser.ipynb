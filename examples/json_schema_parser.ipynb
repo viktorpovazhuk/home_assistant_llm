{
 "cells": [
  {
   "cell_type": "code",
   "execution_count": 7,
   "metadata": {},
   "outputs": [
    {
     "name": "stdout",
     "output_type": "stream",
     "text": [
      "Collecting Cython\n",
      "  Downloading Cython-3.0.8-cp310-cp310-manylinux_2_17_x86_64.manylinux2014_x86_64.whl.metadata (3.2 kB)\n",
      "Downloading Cython-3.0.8-cp310-cp310-manylinux_2_17_x86_64.manylinux2014_x86_64.whl (3.6 MB)\n",
      "\u001b[2K   \u001b[90m━━━━━━━━━━━━━━━━━━━━━━━━━━━━━━━━━━━━━━━━\u001b[0m \u001b[32m3.6/3.6 MB\u001b[0m \u001b[31m8.5 MB/s\u001b[0m eta \u001b[36m0:00:00\u001b[0m00:01\u001b[0m00:01\u001b[0m\n",
      "\u001b[?25hInstalling collected packages: Cython\n",
      "Successfully installed Cython-3.0.8\n",
      "Note: you may need to restart the kernel to use updated packages.\n"
     ]
    }
   ],
   "source": [
    "# %pip install transformers\n",
    "# %pip install datasets\n",
    "%pip install Cython"
   ]
  },
  {
   "cell_type": "code",
   "execution_count": 11,
   "metadata": {},
   "outputs": [],
   "source": [
    "import json"
   ]
  },
  {
   "cell_type": "code",
   "execution_count": 2,
   "metadata": {},
   "outputs": [
    {
     "data": {
      "application/vnd.jupyter.widget-view+json": {
       "model_id": "c144b1b37f03450baa7b342bf7dc9054",
       "version_major": 2,
       "version_minor": 0
      },
      "text/plain": [
       "tokenizer_config.json:   0%|          | 0.00/260 [00:00<?, ?B/s]"
      ]
     },
     "metadata": {},
     "output_type": "display_data"
    },
    {
     "data": {
      "application/vnd.jupyter.widget-view+json": {
       "model_id": "50e22073ae7e4f489dcedf3df2ee2d93",
       "version_major": 2,
       "version_minor": 0
      },
      "text/plain": [
       "vocab.json:   0%|          | 0.00/3.39M [00:00<?, ?B/s]"
      ]
     },
     "metadata": {},
     "output_type": "display_data"
    },
    {
     "data": {
      "application/vnd.jupyter.widget-view+json": {
       "model_id": "cfe70f7827294aafaefc117fe7a38eeb",
       "version_major": 2,
       "version_minor": 0
      },
      "text/plain": [
       "merges.txt:   0%|          | 0.00/1.05M [00:00<?, ?B/s]"
      ]
     },
     "metadata": {},
     "output_type": "display_data"
    },
    {
     "data": {
      "application/vnd.jupyter.widget-view+json": {
       "model_id": "182d13f77ff84bcd86e5568bcf0f4a68",
       "version_major": 2,
       "version_minor": 0
      },
      "text/plain": [
       "special_tokens_map.json:   0%|          | 0.00/174 [00:00<?, ?B/s]"
      ]
     },
     "metadata": {},
     "output_type": "display_data"
    }
   ],
   "source": [
    "from transformers import AutoTokenizer\n",
    "\n",
    "tokenizer = AutoTokenizer.from_pretrained(\"KnutJaegersberg/Qwen-1_8B-Llamafied\")"
   ]
  },
  {
   "cell_type": "code",
   "execution_count": 33,
   "metadata": {},
   "outputs": [
    {
     "name": "stdout",
     "output_type": "stream",
     "text": [
      "[{\"required\": [\"field1\"]}, {\"field1\": {\"type\": \"string\"}}]\n"
     ]
    }
   ],
   "source": [
    "json_separate_object = \"\"\"\n",
    "{\n",
    "    \"type\": \"object\",\n",
    "    \"properties\": {\n",
    "        \"location\": {\n",
    "        \"type\": \"string\",\n",
    "        \"enum\": [\"living_room\"]\n",
    "        },\n",
    "        \"temperature\": {\n",
    "        \"type\": \"number\"\n",
    "        }\n",
    "    }\n",
    "}\n",
    "\"\"\"\n",
    "\n",
    "json_1_full = json_separate_object.replace(\"\\n\", \" \")\n",
    "json_1_dense = json_separate_object.replace(\"\\n\", \" \").replace(\" \", \"\")\n",
    "\n",
    "json_separate_object = \\\n",
    "{\n",
    "    \"type\": \"object\",\n",
    "    \"properties\": {\n",
    "        \"location\": {\n",
    "        \"type\": \"string\",\n",
    "        \"enum\": [\"living_room\"]\n",
    "        },\n",
    "        \"temperature\": {\n",
    "        \"type\": \"number\"\n",
    "        }\n",
    "    }\n",
    "}\n",
    "\n",
    "json_1_dumps = json.dumps(json_separate_object)\n",
    "\n",
    "json_separate_property = [\n",
    "    {\"required\": [\"field1\"]}, {\"field1\": {\"type\": \"string\"}}\n",
    "]\n",
    "\n",
    "json_2 = json.dumps(json_separate_property)\n",
    "\n",
    "print(json_2)"
   ]
  },
  {
   "cell_type": "code",
   "execution_count": 34,
   "metadata": {},
   "outputs": [
    {
     "name": "stdout",
     "output_type": "stream",
     "text": [
      "54\n"
     ]
    }
   ],
   "source": [
    "encoded_input = tokenizer(json_1_full)\n",
    "print(len(encoded_input[\"input_ids\"]))"
   ]
  },
  {
   "cell_type": "code",
   "execution_count": 35,
   "metadata": {},
   "outputs": [
    {
     "name": "stdout",
     "output_type": "stream",
     "text": [
      "37\n"
     ]
    }
   ],
   "source": [
    "encoded_input = tokenizer(json_1_dumps)\n",
    "print(len(encoded_input[\"input_ids\"]))"
   ]
  },
  {
   "cell_type": "code",
   "execution_count": 36,
   "metadata": {},
   "outputs": [
    {
     "name": "stdout",
     "output_type": "stream",
     "text": [
      "20\n"
     ]
    }
   ],
   "source": [
    "encoded_input = tokenizer(json_2)\n",
    "print(len(encoded_input[\"input_ids\"]))"
   ]
  },
  {
   "cell_type": "code",
   "execution_count": 37,
   "metadata": {},
   "outputs": [
    {
     "name": "stdout",
     "output_type": "stream",
     "text": [
      "[\n",
      "{\"\n",
      "required\n",
      "\":\n",
      " [\"\n",
      "field\n",
      "1\n",
      "\"]\n",
      "},\n",
      " {\"\n",
      "field\n",
      "1\n",
      "\":\n",
      " {\"\n",
      "type\n",
      "\":\n",
      " \"\n",
      "string\n",
      "\"}}\n",
      "]\n"
     ]
    }
   ],
   "source": [
    "for input_id in encoded_input[\"input_ids\"]:\n",
    "    print(tokenizer.decode(input_id))"
   ]
  },
  {
   "cell_type": "code",
   "execution_count": 12,
   "metadata": {},
   "outputs": [],
   "source": [
    "with open('apartment_env.json', 'r') as f:\n",
    "    data = json.load(f)"
   ]
  },
  {
   "cell_type": "code",
   "execution_count": 13,
   "metadata": {},
   "outputs": [],
   "source": [
    "import copy"
   ]
  },
  {
   "cell_type": "code",
   "execution_count": 19,
   "metadata": {},
   "outputs": [],
   "source": [
    "# TODO: properties with the same name can have different types in different locations (e.g. \"windows\" in \"living_room\" and \"bedroom\")\n",
    "\n",
    "prompt_schema = {\n",
    "  \"type\": \"object\",\n",
    "  \"properties\": {\n",
    "    \"locations\": {\n",
    "      \"type\": \"array\",\n",
    "      \"items\": {\n",
    "        \"oneOf\": []\n",
    "      }\n",
    "    }\n",
    "  }\n",
    "}\n",
    "\n",
    "default_dict = \\\n",
    "{\n",
    "  \"type\": \"object\",\n",
    "  \"properties\": {\n",
    "    \"name\": {\n",
    "      \"type\": \"string\",\n",
    "      \"enum\": []\n",
    "    }\n",
    "  }\n",
    "}\n",
    "for location in data['locations']:\n",
    "    location_dict = copy.deepcopy(default_dict)\n",
    "    location_dict['properties']['name']['enum'] = [location['name']]\n",
    "    for property in location['properties']:\n",
    "        name, prop_type = list(property.items())[0]\n",
    "        location_dict['properties'][name] = {\"type\": prop_type}\n",
    "    prompt_schema['properties']['locations']['items']['oneOf'].append(location_dict)"
   ]
  },
  {
   "cell_type": "code",
   "execution_count": 20,
   "metadata": {},
   "outputs": [],
   "source": [
    "import pprint"
   ]
  },
  {
   "cell_type": "code",
   "execution_count": 24,
   "metadata": {},
   "outputs": [
    {
     "name": "stdout",
     "output_type": "stream",
     "text": [
      "{\"type\": \"object\", \"properties\": {\"locations\": {\"type\": \"array\", \"items\": {\"oneOf\": [{\"type\": \"object\", \"properties\": {\"name\": {\"type\": \"string\", \"enum\": [\"living_room\"]}, \"temperature\": {\"type\": \"number\"}, \"humidity\": {\"type\": \"number\"}, \"lightning\": {\"type\": \"boolean\"}, \"window\": {\"type\": \"boolean\"}, \"computer\": {\"type\": \"boolean\"}}}, {\"type\": \"object\", \"properties\": {\"name\": {\"type\": \"string\", \"enum\": [\"bedroom\"]}, \"temperature\": {\"type\": \"number\"}, \"humidity\": {\"type\": \"number\"}, \"lightning\": {\"type\": \"boolean\"}, \"computer\": {\"type\": \"boolean\"}}}, {\"type\": \"object\", \"properties\": {\"name\": {\"type\": \"string\", \"enum\": [\"kitchen\"]}, \"temperature\": {\"type\": \"number\"}, \"humidity\": {\"type\": \"number\"}, \"lightning\": {\"type\": \"boolean\"}, \"oven\": {\"type\": \"boolean\"}, \"fridge\": {\"type\": \"boolean\"}}}, {\"type\": \"object\", \"properties\": {\"name\": {\"type\": \"string\", \"enum\": [\"bathroom\"]}, \"temperature\": {\"type\": \"number\"}, \"humidity\": {\"type\": \"number\"}, \"lightning\": {\"type\": \"boolean\"}, \"shower\": {\"type\": \"boolean\"}, \"toilet\": {\"type\": \"boolean\"}, \"fan\": {\"type\": \"boolean\"}}}]}}}}\n"
     ]
    }
   ],
   "source": [
    "print(json.dumps(prompt_schema))"
   ]
  },
  {
   "cell_type": "code",
   "execution_count": 7,
   "metadata": {},
   "outputs": [
    {
     "data": {
      "text/plain": [
       "(0, 0)"
      ]
     },
     "execution_count": 7,
     "metadata": {},
     "output_type": "execute_result"
    }
   ],
   "source": [
    "a = {0: 0}\n",
    "list(a.items())[0]"
   ]
  }
 ],
 "metadata": {
  "kernelspec": {
   "display_name": "chat_bot",
   "language": "python",
   "name": "python3"
  },
  "language_info": {
   "codemirror_mode": {
    "name": "ipython",
    "version": 3
   },
   "file_extension": ".py",
   "mimetype": "text/x-python",
   "name": "python",
   "nbconvert_exporter": "python",
   "pygments_lexer": "ipython3",
   "version": "3.10.13"
  }
 },
 "nbformat": 4,
 "nbformat_minor": 2
}
