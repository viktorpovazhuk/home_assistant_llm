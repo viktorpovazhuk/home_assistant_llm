{
 "cells": [
  {
   "cell_type": "code",
   "execution_count": 1,
   "metadata": {},
   "outputs": [],
   "source": [
    "%load_ext autoreload\n",
    "%autoreload 2"
   ]
  },
  {
   "cell_type": "code",
   "execution_count": 8,
   "metadata": {},
   "outputs": [],
   "source": [
    "from bs4 import BeautifulSoup\n",
    "import pandas as pd\n",
    "\n",
    "from parse_utils import init_function_dict, parse_table, parse_list, parse_div"
   ]
  },
  {
   "cell_type": "markdown",
   "metadata": {},
   "source": [
    "# functions"
   ]
  },
  {
   "cell_type": "code",
   "execution_count": 9,
   "metadata": {},
   "outputs": [],
   "source": [
    "def parse_methods(\n",
    "    docs, methods_start_idx, methods_stop_idx, redundant_notes, tag_element_map\n",
    "):\n",
    "    functions_df = pd.DataFrame(columns=[\"name\", \"description\"])\n",
    "\n",
    "    function_dict = {}\n",
    "    init_function_dict(function_dict)\n",
    "\n",
    "    for child in docs.contents[methods_start_idx:methods_stop_idx]:\n",
    "        if child.name == tag_element_map[\"function_name\"]:\n",
    "            if function_dict[\"name\"] != \"\":\n",
    "                functions_df.loc[len(functions_df)] = function_dict\n",
    "                init_function_dict(function_dict)\n",
    "\n",
    "            function_name = str(child.contents[0])\n",
    "            function_dict[\"name\"] = function_name\n",
    "\n",
    "        elif child.name == \"p\":\n",
    "            if child.contents[0] in redundant_notes:\n",
    "                continue\n",
    "            function_dict[f\"description\"] += child.get_text() + \" \"\n",
    "\n",
    "        elif child.name == \"ul\":\n",
    "            function_dict[f\"description\"] += parse_list(child) + \" \"\n",
    "\n",
    "        elif child.name == \"h4\":\n",
    "            function_dict[f\"description\"] += (\n",
    "                child.get_text().replace(\"\\u200b\", \"\") + \" \"\n",
    "            )\n",
    "\n",
    "        elif child.name == \"table\":\n",
    "            function_dict[f\"description\"] += parse_table(child) + \" \"\n",
    "\n",
    "        elif child.name == \"div\":\n",
    "            function_dict[\"description\"] += parse_div(child) + \" \"\n",
    "\n",
    "        else:\n",
    "            with open(\"other_tags.html\", \"a\") as f:\n",
    "                f.write(\"IN FUNCTIONS:\\n\")\n",
    "                f.write(child.prettify())\n",
    "    functions_df.loc[len(functions_df)] = function_dict\n",
    "\n",
    "    functions_df.to_csv(\"functions.csv\", index=False)\n",
    "\n",
    "\n",
    "def parse_component(docs, component_start_idx, component_stop_idx):\n",
    "    component_df = pd.DataFrame(columns=[\"name\", \"type\", \"description\"])\n",
    "    component_dict = {\n",
    "        \"name\": \"\",\n",
    "        \"type\": \"\",\n",
    "        \"description\": \"\",\n",
    "    }\n",
    "    for child in docs.contents[component_start_idx:component_stop_idx]:\n",
    "        if child.name == \"h1\":\n",
    "            component_dict[\"name\"] = child.get_text()\n",
    "\n",
    "        elif child.name == \"p\":\n",
    "            component_dict[\"description\"] += child.get_text() + \" \"\n",
    "\n",
    "            if \"service\" in component_dict[\"description\"]:\n",
    "                component_dict[\"type\"] = \"service\"\n",
    "            else:\n",
    "                component_dict[\"type\"] = \"component\"\n",
    "\n",
    "        elif child.name == \"ul\":\n",
    "            component_dict[\"description\"] += parse_list(child) + \" \"\n",
    "\n",
    "        else:\n",
    "            with open(\"other_tags.html\", \"a\") as f:\n",
    "                f.write(\"IN COMPONENT:\\n\")\n",
    "                f.write(child.prettify())\n",
    "    component_df.loc[len(component_df)] = component_dict\n",
    "    component_df.to_csv(\"component.csv\", index=False)"
   ]
  },
  {
   "cell_type": "markdown",
   "metadata": {},
   "source": [
    "# cover"
   ]
  },
  {
   "cell_type": "code",
   "execution_count": null,
   "metadata": {},
   "outputs": [],
   "source": [
    "with open(\"index_cover.html\") as fp:\n",
    "    html_doc = fp.read()\n",
    "\n",
    "soup = BeautifulSoup(html_doc, \"html.parser\")\n",
    "\n",
    "docs = soup.find_all(\"div\", class_=\"theme-doc-markdown markdown\")[0]\n",
    "\n",
    "REDUNDANT_NOTES = [\n",
    "    \"Attributes in the result:\",\n",
    "    \"Attributes in the result (only the ones available are shown):\",\n",
    "    \"Parameters:\",\n",
    "]\n",
    "TAG_NAMES = {\"function_name\": \"h3\"}\n",
    "\n",
    "component_start_idx = 0\n",
    "component_stop_idx = docs.contents.index(docs.find(\"h2\"))\n",
    "methods_start_idx = docs.contents.index(docs.find(\"h2\")) + 1\n",
    "methods_stop_idx = docs.contents.index(docs.select('h2[id*=\"http-endpoint-\"]')[0])\n",
    "\n",
    "parse_component(docs, component_start_idx, component_stop_idx)\n",
    "parse_methods(docs, methods_start_idx, methods_stop_idx)"
   ]
  },
  {
   "cell_type": "markdown",
   "metadata": {},
   "source": [
    "# switch"
   ]
  },
  {
   "cell_type": "code",
   "execution_count": 11,
   "metadata": {},
   "outputs": [],
   "source": [
    "with open(\"index_switch.html\") as fp:\n",
    "    html_doc = fp.read()\n",
    "\n",
    "soup = BeautifulSoup(html_doc, \"html.parser\")\n",
    "\n",
    "docs = soup.find_all(\"div\", class_=\"theme-doc-markdown markdown\")[0]\n",
    "\n",
    "REDUNDANT_NOTES = [\n",
    "    \"Attributes in the result:\",\n",
    "    \"Attributes in the result (only the ones available are shown):\",\n",
    "    \"Parameters:\",\n",
    "]\n",
    "TAG_ELEMENT_MAP = {\"function_name\": \"h3\"}\n",
    "\n",
    "component_start_idx = 0\n",
    "component_stop_idx = docs.contents.index(docs.find(\"h2\"))\n",
    "methods_start_idx = docs.contents.index(docs.find(\"h2\")) + 1\n",
    "methods_stop_idx = docs.contents.index(docs.select('h2[id*=\"http-endpoint-\"]')[0])\n",
    "\n",
    "parse_component(docs, component_start_idx, component_stop_idx)\n",
    "parse_methods(\n",
    "    docs, methods_start_idx, methods_stop_idx, REDUNDANT_NOTES, TAG_ELEMENT_MAP\n",
    ")"
   ]
  },
  {
   "cell_type": "code",
   "execution_count": null,
   "metadata": {},
   "outputs": [],
   "source": []
  }
 ],
 "metadata": {
  "kernelspec": {
   "display_name": "experiments",
   "language": "python",
   "name": "python3"
  },
  "language_info": {
   "codemirror_mode": {
    "name": "ipython",
    "version": 3
   },
   "file_extension": ".py",
   "mimetype": "text/x-python",
   "name": "python",
   "nbconvert_exporter": "python",
   "pygments_lexer": "ipython3",
   "version": "3.9.18"
  }
 },
 "nbformat": 4,
 "nbformat_minor": 2
}
