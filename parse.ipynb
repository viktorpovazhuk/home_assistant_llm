{
 "cells": [
  {
   "cell_type": "code",
   "execution_count": 16,
   "metadata": {},
   "outputs": [
    {
     "name": "stdout",
     "output_type": "stream",
     "text": [
      "The autoreload extension is already loaded. To reload it, use:\n",
      "  %reload_ext autoreload\n"
     ]
    }
   ],
   "source": [
    "%load_ext autoreload\n",
    "%autoreload 2"
   ]
  },
  {
   "cell_type": "code",
   "execution_count": 17,
   "metadata": {},
   "outputs": [],
   "source": [
    "from bs4 import BeautifulSoup\n",
    "import pandas as pd\n",
    "import json\n",
    "import os\n",
    "from pathlib import Path\n",
    "\n",
    "from parse_utils import init_function_dict, parse_table, parse_list, parse_note, parse_code"
   ]
  },
  {
   "cell_type": "markdown",
   "metadata": {},
   "source": [
    "# functions"
   ]
  },
  {
   "cell_type": "code",
   "execution_count": 18,
   "metadata": {},
   "outputs": [],
   "source": [
    "docs_dir = Path('data/docs/')"
   ]
  },
  {
   "cell_type": "code",
   "execution_count": 19,
   "metadata": {},
   "outputs": [],
   "source": [
    "def parse_methods(\n",
    "    docs, methods_start_idx, methods_stop_idx, tag_element_map, ignore_functions=[]\n",
    "):\n",
    "    functions_df = pd.DataFrame(columns=[\"name\", \"description\"])\n",
    "\n",
    "    function_dict = {}\n",
    "    init_function_dict(function_dict)\n",
    "\n",
    "    for child in docs.contents[methods_start_idx:methods_stop_idx]:\n",
    "        if child.name == tag_element_map[\"function_name\"]:\n",
    "            if function_dict[\"name\"] != \"\":\n",
    "                if function_dict[\"name\"] not in ignore_functions:\n",
    "                    functions_df.loc[len(functions_df)] = function_dict\n",
    "                init_function_dict(function_dict)\n",
    "\n",
    "            function_name = str(child.contents[0])\n",
    "            function_dict[\"name\"] = function_name\n",
    "\n",
    "        elif child.name == \"p\":\n",
    "            function_dict[f\"description\"] += child.get_text() + \"\\n\"\n",
    "\n",
    "        elif child.name == \"ul\":\n",
    "            function_dict[f\"description\"] += parse_list(child) + \"\\n\"\n",
    "\n",
    "        elif child.name == \"h4\":\n",
    "            function_dict[f\"description\"] += (\n",
    "                child.get_text().replace(\"\\u200b\", \"\") + \"\\n\"\n",
    "            )\n",
    "\n",
    "        elif child.name == \"table\":\n",
    "            function_dict[f\"description\"] += parse_table(child) + \"\\n\"\n",
    "\n",
    "        elif child.name == \"div\" and 'alert' in child.attrs['class']:\n",
    "            function_dict[\"description\"] += parse_note(child) + \"\\n\"\n",
    "\n",
    "        elif child.name == \"div\" and 'language-json' in child.attrs['class']:\n",
    "            function_dict[\"description\"] += parse_code(child) + \"\\n\"\n",
    "\n",
    "        else:\n",
    "            with open(\"other_tags.html\", \"a\") as f:\n",
    "                f.write(\"IN FUNCTIONS:\\n\")\n",
    "                f.write(child.prettify())\n",
    "    functions_df.loc[len(functions_df)] = function_dict\n",
    "\n",
    "    device_name = functions_df.iloc[0]['name'].split(\".\")[0]\n",
    "    functions_df.to_csv(docs_dir / f\"methods.csv\", index=False, header=False, mode='a')\n",
    "\n",
    "    for _, row in functions_df.iterrows():\n",
    "        with open(docs_dir / f'methods/{row[\"name\"]}.md', \"w\") as f:\n",
    "            f.write(f'Method name: {row[\"name\"]}\\n')\n",
    "            f.write(f'Method description: {row[\"description\"]}')\n",
    "\n",
    "\n",
    "def parse_component(docs, component_start_idx, component_stop_idx):\n",
    "    component_dict = {\n",
    "        \"name\": \"\",\n",
    "        \"type\": \"\",\n",
    "        \"description\": \"\",\n",
    "    }\n",
    "    for child in docs.contents[component_start_idx:component_stop_idx]:\n",
    "        if child.name == \"h1\":\n",
    "            component_dict[\"name\"] = child.get_text()\n",
    "\n",
    "        elif child.name == \"p\":\n",
    "            component_dict[\"description\"] += child.get_text() + \"\\n\"\n",
    "\n",
    "            if \"service\" in component_dict[\"description\"]:\n",
    "                component_dict[\"type\"] = \"service\"\n",
    "            else:\n",
    "                component_dict[\"type\"] = \"component\"\n",
    "\n",
    "        elif child.name == \"ul\":\n",
    "            component_dict[\"description\"] += parse_list(child) + \"\\n\"\n",
    "\n",
    "        else:\n",
    "            with open(\"other_tags.html\", \"a\") as f:\n",
    "                f.write(\"IN COMPONENT:\\n\")\n",
    "                f.write(child.prettify())\n",
    "                \n",
    "    with open(docs_dir / f'components/{component_dict[\"name\"]}.md', \"w\") as f:\n",
    "        f.write(f'{component_dict[\"name\"]} {component_dict[\"type\"]} description: {component_dict[\"description\"]}\\n')\n",
    "\n",
    "def parse_config(config_contents, device_name):\n",
    "    device_name = device_name.capitalize()\n",
    "    config_description = \"\"\n",
    "    for child in config_contents:\n",
    "        if child.name == \"p\":\n",
    "            config_description += child.get_text() + \"\\n\"\n",
    "\n",
    "        elif child.name == \"ul\":\n",
    "            config_description += parse_list(child) + \"\\n\"\n",
    "\n",
    "        elif child.name == \"h4\":\n",
    "            config_description += (\n",
    "                child.get_text().replace(\"\\u200b\", \"\") + \"\\n\"\n",
    "            )\n",
    "\n",
    "        elif child.name == \"table\":\n",
    "            config_description += parse_table(child) + \"\\n\"\n",
    "\n",
    "        elif child.name == \"div\" and 'alert' in child.attrs['class']:\n",
    "            config_description += parse_note(child) + \"\\n\"\n",
    "\n",
    "        elif child.name == \"div\" and 'language-json' in child.attrs['class']:\n",
    "            config_description += parse_code(child) + \"\\n\"\n",
    "\n",
    "        else:\n",
    "            with open(\"other_tags.html\", \"a\") as f:\n",
    "                f.write(\"IN CONFIG:\\n\")\n",
    "                f.write(child.prettify())\n",
    "\n",
    "    with open(docs_dir / f'additional/{device_name}.Config.md', \"w\") as f:\n",
    "        f.write(f'{device_name} config object description: {config_description}')\n",
    "\n",
    "def parse_status(status_contents, device_name):\n",
    "    device_name = device_name.capitalize()\n",
    "    description = \"\"\n",
    "    for child in status_contents:\n",
    "        if child.name == \"p\":\n",
    "            description += child.get_text() + \"\\n\"\n",
    "\n",
    "        elif child.name == \"ul\":\n",
    "            description += parse_list(child) + \"\\n\"\n",
    "\n",
    "        elif child.name == \"h4\":\n",
    "            description += (\n",
    "                child.get_text().replace(\"\\u200b\", \"\") + \"\\n\"\n",
    "            )\n",
    "\n",
    "        elif child.name == \"table\":\n",
    "            description += parse_table(child) + \"\\n\"\n",
    "\n",
    "        elif child.name == \"div\" and 'alert' in child.attrs['class']:\n",
    "            description += parse_note(child) + \"\\n\"\n",
    "\n",
    "        elif child.name == \"div\" and 'language-json' in child.attrs['class']:\n",
    "            description += parse_code(child) + \"\\n\"\n",
    "\n",
    "        else:\n",
    "            with open(\"other_tags.html\", \"a\") as f:\n",
    "                f.write(\"IN STATUS:\\n\")\n",
    "                f.write(child.prettify())\n",
    "\n",
    "    with open(docs_dir / f'additional/{device_name}.Status.md', \"w\") as f:\n",
    "        f.write(f'{device_name} status object description: {description}')\n",
    "\n",
    "# copy status to GetStatus and config to GetConfig\n",
    "def copy_config(device_name):\n",
    "    device_name = device_name.capitalize()\n",
    "    with open(docs_dir / f'additional/{device_name}.Config.md', \"r\") as f:\n",
    "        config = f.read()\n",
    "    with open(docs_dir / f'methods/{device_name}.GetConfig.md', \"a\") as f:\n",
    "        f.write(config)\n",
    "    with open(docs_dir / f'methods/{device_name}.SetConfig.md', \"a\") as f:\n",
    "        f.write(config)\n",
    "    # os.remove(docs_dir / f'{device_name}.Config.md')\n",
    "        \n",
    "def copy_status(device_name):\n",
    "    device_name = device_name.capitalize()\n",
    "    with open(docs_dir / f'additional/{device_name}.Status.md', \"r\") as f:\n",
    "        status = f.read()\n",
    "    with open(docs_dir / f'methods/{device_name}.GetStatus.md', \"a\") as f:\n",
    "        f.write(status)"
   ]
  },
  {
   "cell_type": "code",
   "execution_count": 20,
   "metadata": {},
   "outputs": [],
   "source": [
    "TAG_ELEMENT_MAP = {\"function_name\": \"h3\"}"
   ]
  },
  {
   "cell_type": "markdown",
   "metadata": {},
   "source": [
    "# cover"
   ]
  },
  {
   "cell_type": "code",
   "execution_count": 105,
   "metadata": {},
   "outputs": [],
   "source": [
    "device_name = \"cover\"\n",
    "\n",
    "with open(f\"index_{device_name}.html\") as fp:\n",
    "    html_doc = fp.read()\n",
    "\n",
    "soup = BeautifulSoup(html_doc, \"html.parser\")\n",
    "\n",
    "docs = soup.find_all(\"div\", class_=\"theme-doc-markdown markdown\")[0]\n",
    "\n",
    "component_start_idx = 0\n",
    "component_stop_idx = docs.contents.index(docs.find(\"h2\"))\n",
    "parse_component(docs, component_start_idx, component_stop_idx)\n",
    "\n",
    "methods_start_idx = docs.contents.index(docs.find(\"h2\")) + 1\n",
    "methods_stop_idx = docs.contents.index(docs.select('h2[id*=\"http-endpoint-\"]')[0])\n",
    "parse_methods(docs, methods_start_idx, methods_stop_idx, TAG_ELEMENT_MAP)\n",
    "\n",
    "config_start_idx = docs.contents.index(docs.select('h2[id=\"configuration\"]')[0])+1\n",
    "config_stop_idx = docs.contents.index(docs.select('h2[id=\"status\"]')[0])\n",
    "parse_config(docs.contents[config_start_idx:config_stop_idx], device_name)\n",
    "\n",
    "status_start_idx = docs.contents.index(docs.select('h2[id=\"status\"]')[0])+1\n",
    "status_stop_idx = docs.contents.index(docs.select('h2[id=\"webhook-events\"]')[0])\n",
    "parse_status(docs.contents[status_start_idx:status_stop_idx], device_name)"
   ]
  },
  {
   "cell_type": "markdown",
   "metadata": {},
   "source": [
    "# switch"
   ]
  },
  {
   "cell_type": "code",
   "execution_count": 110,
   "metadata": {},
   "outputs": [],
   "source": [
    "device_name = \"switch\"\n",
    "\n",
    "with open(f\"index_{device_name}.html\") as fp:\n",
    "    html_doc = fp.read()\n",
    "\n",
    "soup = BeautifulSoup(html_doc, \"html.parser\")\n",
    "\n",
    "docs = soup.find_all(\"div\", class_=\"theme-doc-markdown markdown\")[0]\n",
    "\n",
    "component_start_idx = 0\n",
    "component_stop_idx = docs.contents.index(docs.find(\"h2\"))\n",
    "parse_component(docs, component_start_idx, component_stop_idx)\n",
    "\n",
    "methods_start_idx = docs.contents.index(docs.find(\"h2\")) + 1\n",
    "methods_stop_idx = docs.contents.index(docs.select('h2[id*=\"http-endpoint-\"]')[0])\n",
    "parse_methods(docs, methods_start_idx, methods_stop_idx, TAG_ELEMENT_MAP)\n",
    "\n",
    "config_start_idx = docs.contents.index(docs.select('h2[id=\"configuration\"]')[0])+1\n",
    "config_stop_idx = docs.contents.index(docs.select('h2[id=\"status\"]')[0])\n",
    "parse_config(docs.contents[config_start_idx:config_stop_idx], device_name)\n",
    "\n",
    "status_start_idx = docs.contents.index(docs.select('h2[id=\"status\"]')[0])+1\n",
    "status_stop_idx = docs.contents.index(docs.select('h2[id=\"webhook-events\"]')[0])\n",
    "parse_status(docs.contents[status_start_idx:status_stop_idx], device_name)"
   ]
  },
  {
   "cell_type": "markdown",
   "metadata": {},
   "source": [
    "# light"
   ]
  },
  {
   "cell_type": "code",
   "execution_count": 111,
   "metadata": {},
   "outputs": [],
   "source": [
    "device_name = \"light\"\n",
    "\n",
    "with open(f\"index_{device_name}.html\") as fp:\n",
    "    html_doc = fp.read()\n",
    "\n",
    "soup = BeautifulSoup(html_doc, \"html.parser\")\n",
    "\n",
    "docs = soup.find_all(\"div\", class_=\"theme-doc-markdown markdown\")[0]\n",
    "\n",
    "component_start_idx = 0\n",
    "component_stop_idx = docs.contents.index(docs.find(\"h2\"))\n",
    "parse_component(docs, component_start_idx, component_stop_idx)\n",
    "\n",
    "methods_start_idx = docs.contents.index(docs.find(\"h2\")) + 1\n",
    "methods_stop_idx = docs.contents.index(docs.select('h2[id*=\"http-endpoint-\"]')[0])\n",
    "parse_methods(docs, methods_start_idx, methods_stop_idx, TAG_ELEMENT_MAP)\n",
    "\n",
    "config_start_idx = docs.contents.index(docs.select('h2[id=\"configuration\"]')[0])+1\n",
    "config_stop_idx = docs.contents.index(docs.select('h2[id=\"status\"]')[0])\n",
    "parse_config(docs.contents[config_start_idx:config_stop_idx], device_name)\n",
    "\n",
    "status_start_idx = docs.contents.index(docs.select('h2[id=\"status\"]')[0])+1\n",
    "status_stop_idx = docs.contents.index(docs.select('h2[id=\"webhook-events\"]')[0])\n",
    "parse_status(docs.contents[status_start_idx:status_stop_idx], device_name)"
   ]
  },
  {
   "cell_type": "markdown",
   "metadata": {},
   "source": [
    "# input"
   ]
  },
  {
   "cell_type": "code",
   "execution_count": 115,
   "metadata": {},
   "outputs": [
    {
     "name": "stdout",
     "output_type": "stream",
     "text": [
      "Unknown table type\n"
     ]
    }
   ],
   "source": [
    "input_ignore_functions = ['Input.CheckExpression']\n",
    "\n",
    "device_name = \"input\"\n",
    "\n",
    "with open(f\"index_{device_name}.html\") as fp:\n",
    "    html_doc = fp.read()\n",
    "\n",
    "soup = BeautifulSoup(html_doc, \"html.parser\")\n",
    "\n",
    "docs = soup.find_all(\"div\", class_=\"theme-doc-markdown markdown\")[0]\n",
    "\n",
    "component_start_idx = 0\n",
    "component_stop_idx = docs.contents.index(docs.find(\"h2\"))\n",
    "parse_component(docs, component_start_idx, component_stop_idx)\n",
    "\n",
    "methods_start_idx = docs.contents.index(docs.find(\"h2\")) + 1\n",
    "methods_stop_idx = docs.contents.index(docs.contents[methods_start_idx-1].find_next_sibling('h2'))\n",
    "parse_methods(docs, methods_start_idx, methods_stop_idx, TAG_ELEMENT_MAP, input_ignore_functions)\n",
    "\n",
    "config_start_idx = docs.contents.index(docs.select('h2[id=\"configuration\"]')[0])+1\n",
    "config_stop_idx = docs.contents.index(docs.select('h2[id=\"status\"]')[0])\n",
    "parse_config(docs.contents[config_start_idx:config_stop_idx], device_name)\n",
    "\n",
    "status_start_idx = docs.contents.index(docs.select('h2[id=\"status\"]')[0])+1\n",
    "status_stop_idx = docs.contents.index(docs.select('h2[id=\"webhook-events\"]')[0])\n",
    "parse_status(docs.contents[status_start_idx:status_stop_idx], device_name)"
   ]
  },
  {
   "cell_type": "markdown",
   "metadata": {},
   "source": [
    "# temperature"
   ]
  },
  {
   "cell_type": "code",
   "execution_count": 116,
   "metadata": {},
   "outputs": [],
   "source": [
    "device_name = \"temperature\"\n",
    "\n",
    "with open(f\"index_{device_name}.html\") as fp:\n",
    "    html_doc = fp.read()\n",
    "\n",
    "soup = BeautifulSoup(html_doc, \"html.parser\")\n",
    "\n",
    "docs = soup.find_all(\"div\", class_=\"theme-doc-markdown markdown\")[0]\n",
    "\n",
    "component_start_idx = 0\n",
    "component_stop_idx = docs.contents.index(docs.find(\"h2\"))\n",
    "parse_component(docs, component_start_idx, component_stop_idx)\n",
    "\n",
    "methods_start_idx = docs.contents.index(docs.find(\"h2\")) + 1\n",
    "methods_stop_idx = docs.contents.index(docs.contents[methods_start_idx-1].find_next_sibling('h2'))\n",
    "parse_methods(docs, methods_start_idx, methods_stop_idx, TAG_ELEMENT_MAP)\n",
    "\n",
    "config_start_idx = docs.contents.index(docs.select('h2[id=\"configuration\"]')[0])+1\n",
    "config_stop_idx = docs.contents.index(docs.select('h2[id=\"status\"]')[0])\n",
    "parse_config(docs.contents[config_start_idx:config_stop_idx], device_name)\n",
    "\n",
    "status_start_idx = docs.contents.index(docs.select('h2[id=\"status\"]')[0])+1\n",
    "status_stop_idx = docs.contents.index(docs.select('h2[id=\"webhook-events\"]')[0])\n",
    "parse_status(docs.contents[status_start_idx:status_stop_idx], device_name)"
   ]
  },
  {
   "cell_type": "markdown",
   "metadata": {},
   "source": [
    "# smoke"
   ]
  },
  {
   "cell_type": "code",
   "execution_count": 14,
   "metadata": {},
   "outputs": [],
   "source": [
    "device_name = \"smoke\"\n",
    "\n",
    "with open(f\"data/html/index_{device_name}.html\") as fp:\n",
    "    html_doc = fp.read()\n",
    "\n",
    "soup = BeautifulSoup(html_doc, \"html.parser\")\n",
    "\n",
    "docs = soup.find_all(\"div\", class_=\"theme-doc-markdown markdown\")[0]\n",
    "\n",
    "component_start_idx = 0\n",
    "component_stop_idx = docs.contents.index(docs.find(\"h2\"))\n",
    "parse_component(docs, component_start_idx, component_stop_idx)\n",
    "\n",
    "methods_start_idx = docs.contents.index(docs.find(\"h2\")) + 1\n",
    "methods_stop_idx = docs.contents.index(docs.contents[methods_start_idx-1].find_next_sibling('h2'))\n",
    "parse_methods(docs, methods_start_idx, methods_stop_idx, TAG_ELEMENT_MAP)\n",
    "\n",
    "config_start_idx = docs.contents.index(docs.select('h2[id=\"configuration\"]')[0])+1\n",
    "config_stop_idx = docs.contents.index(docs.select('h2[id=\"status\"]')[0])\n",
    "parse_config(docs.contents[config_start_idx:config_stop_idx], device_name)\n",
    "\n",
    "status_start_idx = docs.contents.index(docs.select('h2[id=\"status\"]')[0])+1\n",
    "status_stop_idx = docs.contents.index(docs.select('h2[id=\"webhook-events\"]')[0])\n",
    "parse_status(docs.contents[status_start_idx:status_stop_idx], device_name)"
   ]
  },
  {
   "cell_type": "markdown",
   "metadata": {},
   "source": [
    "# humidity"
   ]
  },
  {
   "cell_type": "code",
   "execution_count": 21,
   "metadata": {},
   "outputs": [],
   "source": [
    "device_name = \"humidity\"\n",
    "\n",
    "with open(f\"data/html/index_{device_name}.html\") as fp:\n",
    "    html_doc = fp.read()\n",
    "\n",
    "soup = BeautifulSoup(html_doc, \"html.parser\")\n",
    "\n",
    "docs = soup.find_all(\"div\", class_=\"theme-doc-markdown markdown\")[0]\n",
    "\n",
    "component_start_idx = 0\n",
    "component_stop_idx = docs.contents.index(docs.find(\"h2\"))\n",
    "parse_component(docs, component_start_idx, component_stop_idx)\n",
    "\n",
    "methods_start_idx = docs.contents.index(docs.find(\"h2\")) + 1\n",
    "methods_stop_idx = docs.contents.index(docs.contents[methods_start_idx-1].find_next_sibling('h2'))\n",
    "parse_methods(docs, methods_start_idx, methods_stop_idx, TAG_ELEMENT_MAP)\n",
    "\n",
    "config_start_idx = docs.contents.index(docs.select('h2[id=\"configuration\"]')[0])+1\n",
    "config_stop_idx = docs.contents.index(docs.select('h2[id=\"status\"]')[0])\n",
    "parse_config(docs.contents[config_start_idx:config_stop_idx], device_name)\n",
    "\n",
    "status_start_idx = docs.contents.index(docs.select('h2[id=\"status\"]')[0])+1\n",
    "status_stop_idx = docs.contents.index(docs.select('h2[id=\"webhook-events\"]')[0])\n",
    "parse_status(docs.contents[status_start_idx:status_stop_idx], device_name)"
   ]
  },
  {
   "cell_type": "markdown",
   "metadata": {},
   "source": [
    "# config/status copy"
   ]
  },
  {
   "cell_type": "code",
   "execution_count": 9,
   "metadata": {},
   "outputs": [],
   "source": [
    "devices = [\"cover\", \"switch\", \"light\", \"input\", \"temperature\", \"smoke\", \"humidity\"]\n",
    "devices = [device.capitalize() for device in devices]"
   ]
  },
  {
   "cell_type": "code",
   "execution_count": 11,
   "metadata": {},
   "outputs": [],
   "source": [
    "import shutil"
   ]
  },
  {
   "cell_type": "code",
   "execution_count": 22,
   "metadata": {},
   "outputs": [],
   "source": [
    "for device in ['humidity']:\n",
    "    copy_config(device)\n",
    "    copy_status(device)\n",
    "    # shutil.move(f'docs/{device}.Config.md', f'additional/{device}.Config.md')\n",
    "    # shutil.move(f'docs/{device}.Status.md', f'additional/{device}.Status.md')"
   ]
  },
  {
   "cell_type": "code",
   "execution_count": 22,
   "metadata": {},
   "outputs": [],
   "source": []
  },
  {
   "cell_type": "code",
   "execution_count": 27,
   "metadata": {},
   "outputs": [],
   "source": []
  },
  {
   "cell_type": "code",
   "execution_count": null,
   "metadata": {},
   "outputs": [],
   "source": []
  }
 ],
 "metadata": {
  "kernelspec": {
   "display_name": "experiments",
   "language": "python",
   "name": "python3"
  },
  "language_info": {
   "codemirror_mode": {
    "name": "ipython",
    "version": 3
   },
   "file_extension": ".py",
   "mimetype": "text/x-python",
   "name": "python",
   "nbconvert_exporter": "python",
   "pygments_lexer": "ipython3",
   "version": "3.9.18"
  }
 },
 "nbformat": 4,
 "nbformat_minor": 2
}
