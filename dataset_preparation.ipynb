{
 "cells": [
  {
   "cell_type": "code",
   "execution_count": 16,
   "metadata": {},
   "outputs": [],
   "source": [
    "from pathlib import Path\n",
    "import numpy as np\n",
    "import pandas as pd\n",
    "import random\n",
    "import copy\n",
    "import ast\n",
    "import pprint\n",
    "import json\n",
    "import re\n",
    "import time\n",
    "import seaborn as sns\n",
    "import matplotlib.pyplot as plt\n",
    "from transformers import AutoModelForCausalLM, AutoTokenizer"
   ]
  },
  {
   "cell_type": "code",
   "execution_count": 17,
   "metadata": {},
   "outputs": [],
   "source": [
    "def set_seed():\n",
    "    random.seed(0)\n",
    "    np.random.seed(0)"
   ]
  },
  {
   "cell_type": "code",
   "execution_count": 18,
   "metadata": {},
   "outputs": [],
   "source": [
    "DATA_DIR = Path('data/')"
   ]
  },
  {
   "cell_type": "markdown",
   "metadata": {},
   "source": [
    "## Examples"
   ]
  },
  {
   "cell_type": "code",
   "execution_count": 4,
   "metadata": {},
   "outputs": [],
   "source": [
    "df = pd.read_csv(DATA_DIR / 'datasets/merged/val_0.csv')"
   ]
  },
  {
   "cell_type": "code",
   "execution_count": 5,
   "metadata": {},
   "outputs": [
    {
     "data": {
      "text/html": [
       "<div>\n",
       "<style scoped>\n",
       "    .dataframe tbody tr th:only-of-type {\n",
       "        vertical-align: middle;\n",
       "    }\n",
       "\n",
       "    .dataframe tbody tr th {\n",
       "        vertical-align: top;\n",
       "    }\n",
       "\n",
       "    .dataframe thead th {\n",
       "        text-align: right;\n",
       "    }\n",
       "</style>\n",
       "<table border=\"1\" class=\"dataframe\">\n",
       "  <thead>\n",
       "    <tr style=\"text-align: right;\">\n",
       "      <th></th>\n",
       "      <th>id</th>\n",
       "      <th>device</th>\n",
       "      <th>location</th>\n",
       "      <th>number</th>\n",
       "      <th>device_name</th>\n",
       "      <th>device_id</th>\n",
       "      <th>env</th>\n",
       "      <th>user_cmd</th>\n",
       "      <th>mtd</th>\n",
       "      <th>json_cmd</th>\n",
       "      <th>methods_descr</th>\n",
       "      <th>methods_names</th>\n",
       "    </tr>\n",
       "  </thead>\n",
       "  <tbody>\n",
       "    <tr>\n",
       "      <th>0</th>\n",
       "      <td>0</td>\n",
       "      <td>Light</td>\n",
       "      <td>Study room</td>\n",
       "      <td>1</td>\n",
       "      <td>Study room Light 1</td>\n",
       "      <td>98</td>\n",
       "      <td>Light, name=\"Study room Light 1\", id=98;\\nTemp...</td>\n",
       "      <td>Turn on the Study room Light 1.</td>\n",
       "      <td>Light.Toggle</td>\n",
       "      <td>{\"method\": \"Light.Toggle\", \"params\": {\"id\": 98}}</td>\n",
       "      <td>API method 0:\\nMethod name: Light.Set\\nMethod ...</td>\n",
       "      <td>Light.Set,Light.GetConfig,Light.Toggle</td>\n",
       "    </tr>\n",
       "    <tr>\n",
       "      <th>1</th>\n",
       "      <td>1</td>\n",
       "      <td>Light</td>\n",
       "      <td>Outdoor</td>\n",
       "      <td>4</td>\n",
       "      <td>Outdoor Light 4</td>\n",
       "      <td>75</td>\n",
       "      <td>Light, name=\"Kitchen Light 2\", id=13;\\nLight, ...</td>\n",
       "      <td>Turn on the Outdoor Light 4.</td>\n",
       "      <td>Light.Toggle</td>\n",
       "      <td>{\"method\": \"Light.Toggle\", \"params\": {\"id\": 75}}</td>\n",
       "      <td>API method 0:\\nMethod name: Light.Set\\nMethod ...</td>\n",
       "      <td>Light.Set,Light.GetConfig,Light.Toggle</td>\n",
       "    </tr>\n",
       "    <tr>\n",
       "      <th>2</th>\n",
       "      <td>2</td>\n",
       "      <td>Light</td>\n",
       "      <td>Bedroom</td>\n",
       "      <td>1</td>\n",
       "      <td>Bedroom Light 1</td>\n",
       "      <td>88</td>\n",
       "      <td>Cover, name=\"Garage Cover 1\", id=56;\\nLight, n...</td>\n",
       "      <td>Turn on the Bedroom Light 1.</td>\n",
       "      <td>Light.Toggle</td>\n",
       "      <td>{\"method\": \"Light.Toggle\", \"params\": {\"id\": 88}}</td>\n",
       "      <td>API method 0:\\nMethod name: Light.SetConfig\\nM...</td>\n",
       "      <td>Light.SetConfig,Light.Set,Light.Toggle</td>\n",
       "    </tr>\n",
       "    <tr>\n",
       "      <th>3</th>\n",
       "      <td>3</td>\n",
       "      <td>Light</td>\n",
       "      <td>Attic</td>\n",
       "      <td>3</td>\n",
       "      <td>Attic Light 3</td>\n",
       "      <td>62</td>\n",
       "      <td>Cover, name=\"Office Cover 4\", id=94;\\nInput, n...</td>\n",
       "      <td>Turn on the Attic Light 3.</td>\n",
       "      <td>Light.Toggle</td>\n",
       "      <td>{\"method\": \"Light.Toggle\", \"params\": {\"id\": 62}}</td>\n",
       "      <td>API method 0:\\nMethod name: Light.Set\\nMethod ...</td>\n",
       "      <td>Light.Set,Light.SetConfig,Light.Toggle</td>\n",
       "    </tr>\n",
       "    <tr>\n",
       "      <th>4</th>\n",
       "      <td>4</td>\n",
       "      <td>Light</td>\n",
       "      <td>Outdoor</td>\n",
       "      <td>3</td>\n",
       "      <td>Outdoor Light 3</td>\n",
       "      <td>32</td>\n",
       "      <td>Smoke, name=\"Basement Smoke 2\", id=92;\\nLight,...</td>\n",
       "      <td>Turn on the Outdoor Light 3.</td>\n",
       "      <td>Light.Toggle</td>\n",
       "      <td>{\"method\": \"Light.Toggle\", \"params\": {\"id\": 32}}</td>\n",
       "      <td>API method 0:\\nMethod name: Light.Set\\nMethod ...</td>\n",
       "      <td>Light.Set,Light.SetConfig,Light.Toggle</td>\n",
       "    </tr>\n",
       "  </tbody>\n",
       "</table>\n",
       "</div>"
      ],
      "text/plain": [
       "   id device    location  number         device_name  device_id  \\\n",
       "0   0  Light  Study room       1  Study room Light 1         98   \n",
       "1   1  Light     Outdoor       4     Outdoor Light 4         75   \n",
       "2   2  Light     Bedroom       1     Bedroom Light 1         88   \n",
       "3   3  Light       Attic       3       Attic Light 3         62   \n",
       "4   4  Light     Outdoor       3     Outdoor Light 3         32   \n",
       "\n",
       "                                                 env  \\\n",
       "0  Light, name=\"Study room Light 1\", id=98;\\nTemp...   \n",
       "1  Light, name=\"Kitchen Light 2\", id=13;\\nLight, ...   \n",
       "2  Cover, name=\"Garage Cover 1\", id=56;\\nLight, n...   \n",
       "3  Cover, name=\"Office Cover 4\", id=94;\\nInput, n...   \n",
       "4  Smoke, name=\"Basement Smoke 2\", id=92;\\nLight,...   \n",
       "\n",
       "                          user_cmd           mtd  \\\n",
       "0  Turn on the Study room Light 1.  Light.Toggle   \n",
       "1     Turn on the Outdoor Light 4.  Light.Toggle   \n",
       "2     Turn on the Bedroom Light 1.  Light.Toggle   \n",
       "3       Turn on the Attic Light 3.  Light.Toggle   \n",
       "4     Turn on the Outdoor Light 3.  Light.Toggle   \n",
       "\n",
       "                                           json_cmd  \\\n",
       "0  {\"method\": \"Light.Toggle\", \"params\": {\"id\": 98}}   \n",
       "1  {\"method\": \"Light.Toggle\", \"params\": {\"id\": 75}}   \n",
       "2  {\"method\": \"Light.Toggle\", \"params\": {\"id\": 88}}   \n",
       "3  {\"method\": \"Light.Toggle\", \"params\": {\"id\": 62}}   \n",
       "4  {\"method\": \"Light.Toggle\", \"params\": {\"id\": 32}}   \n",
       "\n",
       "                                       methods_descr  \\\n",
       "0  API method 0:\\nMethod name: Light.Set\\nMethod ...   \n",
       "1  API method 0:\\nMethod name: Light.Set\\nMethod ...   \n",
       "2  API method 0:\\nMethod name: Light.SetConfig\\nM...   \n",
       "3  API method 0:\\nMethod name: Light.Set\\nMethod ...   \n",
       "4  API method 0:\\nMethod name: Light.Set\\nMethod ...   \n",
       "\n",
       "                            methods_names  \n",
       "0  Light.Set,Light.GetConfig,Light.Toggle  \n",
       "1  Light.Set,Light.GetConfig,Light.Toggle  \n",
       "2  Light.SetConfig,Light.Set,Light.Toggle  \n",
       "3  Light.Set,Light.SetConfig,Light.Toggle  \n",
       "4  Light.Set,Light.SetConfig,Light.Toggle  "
      ]
     },
     "execution_count": 5,
     "metadata": {},
     "output_type": "execute_result"
    }
   ],
   "source": [
    "df.head()"
   ]
  },
  {
   "cell_type": "code",
   "execution_count": 20,
   "metadata": {},
   "outputs": [
    {
     "name": "stdout",
     "output_type": "stream",
     "text": [
      "{instruction}\n",
      "{json_scheme}\n",
      "\n",
      "Devices: {env}\n",
      "Methods:\n",
      "{methods_description}\n",
      "\n",
      "Command: {user_cmd}\n",
      "JSON:\n",
      "    \n"
     ]
    }
   ],
   "source": [
    "def get_prompt_template():\n",
    "    prompt_template = \"\"\"{instruction}\n",
    "{json_scheme}\n",
    "\n",
    "Devices: {env}\n",
    "Methods:\n",
    "{methods_description}\n",
    "\n",
    "Command: {user_cmd}\n",
    "JSON:\n",
    "    \"\"\"\n",
    "\n",
    "    return prompt_template\n",
    "\n",
    "print(get_prompt_template())"
   ]
  },
  {
   "cell_type": "code",
   "execution_count": 21,
   "metadata": {},
   "outputs": [],
   "source": [
    "def get_prompts_df(df):\n",
    "    with open(DATA_DIR / 'prompts/validation/components/instruction.md') as f:\n",
    "        instruction = f.read()\n",
    "    json_scheme_prompt = {\n",
    "            \"method\": {\n",
    "                \"type\": \"string\"\n",
    "            },\n",
    "            \"params\": {\n",
    "                \"type\": \"object\"\n",
    "            }\n",
    "        }\n",
    "    json_scheme = \"The output JSON should follow the next scheme: \" + json.dumps(json_scheme_prompt)\n",
    "\n",
    "    prompts_df = pd.DataFrame(columns=['user', 'assistant'])\n",
    "\n",
    "    for i, row in df.iterrows():\n",
    "        # print(i)\n",
    "        user_cmd = row['user_cmd']\n",
    "        env = row['env']\n",
    "        methods_description = row['methods_descr']\n",
    "\n",
    "        user_prompt = get_prompt_template().format(**{'instruction': instruction,\n",
    "                                                    'json_scheme': json_scheme,\n",
    "                                                    'env': env,\n",
    "                                                    'methods_description': methods_description, \n",
    "                                                    'user_cmd': user_cmd})\n",
    "\n",
    "        series = pd.Series({'user': user_prompt, 'assistant': row['json_cmd']})\n",
    "        prompts_df.loc[len(prompts_df)] = series\n",
    "    \n",
    "    return prompts_df"
   ]
  },
  {
   "cell_type": "code",
   "execution_count": null,
   "metadata": {},
   "outputs": [],
   "source": [
    "prompts_df = get_prompts_df(df)"
   ]
  },
  {
   "cell_type": "code",
   "execution_count": 8,
   "metadata": {},
   "outputs": [
    {
     "data": {
      "text/html": [
       "<div>\n",
       "<style scoped>\n",
       "    .dataframe tbody tr th:only-of-type {\n",
       "        vertical-align: middle;\n",
       "    }\n",
       "\n",
       "    .dataframe tbody tr th {\n",
       "        vertical-align: top;\n",
       "    }\n",
       "\n",
       "    .dataframe thead th {\n",
       "        text-align: right;\n",
       "    }\n",
       "</style>\n",
       "<table border=\"1\" class=\"dataframe\">\n",
       "  <thead>\n",
       "    <tr style=\"text-align: right;\">\n",
       "      <th></th>\n",
       "      <th>user</th>\n",
       "      <th>assistant</th>\n",
       "    </tr>\n",
       "  </thead>\n",
       "  <tbody>\n",
       "    <tr>\n",
       "      <th>0</th>\n",
       "      <td>You are a helpful AI Assistant that controls d...</td>\n",
       "      <td>{\"method\": \"Light.Toggle\", \"params\": {\"id\": 98}}</td>\n",
       "    </tr>\n",
       "    <tr>\n",
       "      <th>1</th>\n",
       "      <td>You are a helpful AI Assistant that controls d...</td>\n",
       "      <td>{\"method\": \"Light.Toggle\", \"params\": {\"id\": 75}}</td>\n",
       "    </tr>\n",
       "    <tr>\n",
       "      <th>2</th>\n",
       "      <td>You are a helpful AI Assistant that controls d...</td>\n",
       "      <td>{\"method\": \"Light.Toggle\", \"params\": {\"id\": 88}}</td>\n",
       "    </tr>\n",
       "    <tr>\n",
       "      <th>3</th>\n",
       "      <td>You are a helpful AI Assistant that controls d...</td>\n",
       "      <td>{\"method\": \"Light.Toggle\", \"params\": {\"id\": 62}}</td>\n",
       "    </tr>\n",
       "    <tr>\n",
       "      <th>4</th>\n",
       "      <td>You are a helpful AI Assistant that controls d...</td>\n",
       "      <td>{\"method\": \"Light.Toggle\", \"params\": {\"id\": 32}}</td>\n",
       "    </tr>\n",
       "  </tbody>\n",
       "</table>\n",
       "</div>"
      ],
      "text/plain": [
       "                                                user  \\\n",
       "0  You are a helpful AI Assistant that controls d...   \n",
       "1  You are a helpful AI Assistant that controls d...   \n",
       "2  You are a helpful AI Assistant that controls d...   \n",
       "3  You are a helpful AI Assistant that controls d...   \n",
       "4  You are a helpful AI Assistant that controls d...   \n",
       "\n",
       "                                          assistant  \n",
       "0  {\"method\": \"Light.Toggle\", \"params\": {\"id\": 98}}  \n",
       "1  {\"method\": \"Light.Toggle\", \"params\": {\"id\": 75}}  \n",
       "2  {\"method\": \"Light.Toggle\", \"params\": {\"id\": 88}}  \n",
       "3  {\"method\": \"Light.Toggle\", \"params\": {\"id\": 62}}  \n",
       "4  {\"method\": \"Light.Toggle\", \"params\": {\"id\": 32}}  "
      ]
     },
     "execution_count": 8,
     "metadata": {},
     "output_type": "execute_result"
    }
   ],
   "source": [
    "prompts_df.head()"
   ]
  },
  {
   "cell_type": "code",
   "execution_count": 10,
   "metadata": {},
   "outputs": [],
   "source": [
    "tokenizer = AutoTokenizer.from_pretrained(\"mistralai/Mistral-7B-Instruct-v0.2\")"
   ]
  },
  {
   "cell_type": "code",
   "execution_count": 11,
   "metadata": {},
   "outputs": [],
   "source": [
    "prompts_df['num_tokens'] = 0\n",
    "\n",
    "for i, row in prompts_df.iterrows():\n",
    "    ids = tokenizer.apply_chat_template([{'role': 'user', 'content': row['user']}, {'role': 'assistant', 'content': row['assistant']}], return_tensors='np')[0]\n",
    "    prompts_df.loc[i, 'num_tokens'] = len(ids)"
   ]
  },
  {
   "cell_type": "code",
   "execution_count": 59,
   "metadata": {},
   "outputs": [
    {
     "data": {
      "text/plain": [
       "'<s>[INST] a [/INST]b</s>'"
      ]
     },
     "execution_count": 59,
     "metadata": {},
     "output_type": "execute_result"
    }
   ],
   "source": [
    "o = tokenizer.apply_chat_template([{'role': 'user', 'content': 'a'}, {'role': 'assistant', 'content': 'b'}], return_tensors='np', tokenize=False)\n",
    "o"
   ]
  },
  {
   "cell_type": "code",
   "execution_count": 38,
   "metadata": {},
   "outputs": [
    {
     "name": "stdout",
     "output_type": "stream",
     "text": [
      "{'input_ids': array([[    0,     0,     0, ...,     0,     1, 18641]]), 'attention_mask': array([[0, 0, 0, ..., 0, 1, 1]])}\n"
     ]
    },
    {
     "data": {
      "text/plain": [
       "'<s> abc'"
      ]
     },
     "execution_count": 38,
     "metadata": {},
     "output_type": "execute_result"
    }
   ],
   "source": [
    "tokenizer.pad_token = tokenizer.unk_token\n",
    "o = tokenizer(\"abc\", max_length=2000, padding='max_length', return_tensors='np', return_attention_mask=True)\n",
    "print(o)\n",
    "tokenizer.decode([1, 18641])"
   ]
  },
  {
   "cell_type": "code",
   "execution_count": 12,
   "metadata": {},
   "outputs": [
    {
     "data": {
      "image/png": "[encoded data removed]",
      "text/plain": [
       "<Figure size 640x480 with 1 Axes>"
      ]
     },
     "metadata": {},
     "output_type": "display_data"
    }
   ],
   "source": [
    "sns.histplot(prompts_df['num_tokens'], bins=20)\n",
    "plt.show()"
   ]
  },
  {
   "cell_type": "code",
   "execution_count": 13,
   "metadata": {},
   "outputs": [
    {
     "data": {
      "text/plain": [
       "4085"
      ]
     },
     "execution_count": 13,
     "metadata": {},
     "output_type": "execute_result"
    }
   ],
   "source": [
    "max(prompts_df['num_tokens'])"
   ]
  },
  {
   "cell_type": "code",
   "execution_count": 14,
   "metadata": {},
   "outputs": [],
   "source": [
    "res_df = prompts_df.drop(columns=['num_tokens'])"
   ]
  },
  {
   "cell_type": "code",
   "execution_count": 15,
   "metadata": {},
   "outputs": [],
   "source": [
    "res_df.to_csv(DATA_DIR / 'datasets/merged/train.csv', index=False)"
   ]
  },
  {
   "cell_type": "markdown",
   "metadata": {},
   "source": [
    "## Pipeline"
   ]
  },
  {
   "cell_type": "code",
   "execution_count": 22,
   "metadata": {},
   "outputs": [
    {
     "data": {
      "image/png": "[encoded data removed]",
      "text/plain": [
       "<Figure size 640x480 with 1 Axes>"
      ]
     },
     "metadata": {},
     "output_type": "display_data"
    },
    {
     "name": "stdout",
     "output_type": "stream",
     "text": [
      "4085.0\n"
     ]
    },
    {
     "data": {
      "image/png": "[encoded data removed]",
      "text/plain": [
       "<Figure size 640x480 with 1 Axes>"
      ]
     },
     "metadata": {},
     "output_type": "display_data"
    },
    {
     "name": "stdout",
     "output_type": "stream",
     "text": [
      "3961.0\n"
     ]
    }
   ],
   "source": [
    "tokenizer = AutoTokenizer.from_pretrained(\"mistralai/Mistral-7B-Instruct-v0.2\")\n",
    "\n",
    "for split in ['train', 'val']:\n",
    "    df = pd.read_csv(DATA_DIR / f'datasets/merged/{split}_0.csv')\n",
    "\n",
    "    prompts_df = get_prompts_df(df)\n",
    "\n",
    "    for i, row in prompts_df.iterrows():\n",
    "        ids = tokenizer.apply_chat_template([{'role': 'user', 'content': row['user']}, {'role': 'assistant', 'content': row['assistant']}], return_tensors='np')[0]\n",
    "        prompts_df.loc[i, 'num_tokens'] = len(ids)\n",
    "\n",
    "    sns.histplot(prompts_df['num_tokens'], bins=20)\n",
    "    plt.show()\n",
    "    print(max(prompts_df['num_tokens']))\n",
    "    \n",
    "    res_df = prompts_df.drop(columns=['num_tokens'])\n",
    "\n",
    "    res_df.to_csv(DATA_DIR / f'datasets/merged/{split}.csv', index=False)"
   ]
  },
  {
   "cell_type": "code",
   "execution_count": null,
   "metadata": {},
   "outputs": [],
   "source": []
  }
 ],
 "metadata": {
  "kernelspec": {
   "display_name": "assistant",
   "language": "python",
   "name": "python3"
  },
  "language_info": {
   "codemirror_mode": {
    "name": "ipython",
    "version": 3
   },
   "file_extension": ".py",
   "mimetype": "text/x-python",
   "name": "python",
   "nbconvert_exporter": "python",
   "pygments_lexer": "ipython3",
   "version": "3.9.18"
  }
 },
 "nbformat": 4,
 "nbformat_minor": 2
}
