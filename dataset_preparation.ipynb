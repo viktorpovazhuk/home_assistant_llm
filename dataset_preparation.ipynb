{
 "cells": [
  {
   "cell_type": "code",
   "execution_count": 2,
   "metadata": {},
   "outputs": [
    {
     "name": "stderr",
     "output_type": "stream",
     "text": [
      "/home/viktor/miniconda3/envs/experiments/lib/python3.9/site-packages/tqdm/auto.py:21: TqdmWarning: IProgress not found. Please update jupyter and ipywidgets. See https://ipywidgets.readthedocs.io/en/stable/user_install.html\n",
      "  from .autonotebook import tqdm as notebook_tqdm\n"
     ]
    }
   ],
   "source": [
    "from pathlib import Path\n",
    "import numpy as np\n",
    "import pandas as pd\n",
    "import random\n",
    "import copy\n",
    "import ast\n",
    "import pprint\n",
    "import json\n",
    "import re\n",
    "import time\n",
    "import seaborn as sns\n",
    "import matplotlib.pyplot as plt\n",
    "from transformers import AutoModelForCausalLM, AutoTokenizer"
   ]
  },
  {
   "cell_type": "code",
   "execution_count": 3,
   "metadata": {},
   "outputs": [],
   "source": [
    "def set_seed():\n",
    "    random.seed(0)\n",
    "    np.random.seed(0)"
   ]
  },
  {
   "cell_type": "code",
   "execution_count": 4,
   "metadata": {},
   "outputs": [],
   "source": [
    "DATA_DIR = Path('data/')"
   ]
  },
  {
   "cell_type": "markdown",
   "metadata": {},
   "source": [
    "## Examples"
   ]
  },
  {
   "cell_type": "code",
   "execution_count": 7,
   "metadata": {},
   "outputs": [],
   "source": [
    "df = pd.read_csv(DATA_DIR / 'datasets/merged/train_0_mtds.csv')"
   ]
  },
  {
   "cell_type": "code",
   "execution_count": 8,
   "metadata": {},
   "outputs": [
    {
     "data": {
      "text/html": [
       "<div>\n",
       "<style scoped>\n",
       "    .dataframe tbody tr th:only-of-type {\n",
       "        vertical-align: middle;\n",
       "    }\n",
       "\n",
       "    .dataframe tbody tr th {\n",
       "        vertical-align: top;\n",
       "    }\n",
       "\n",
       "    .dataframe thead th {\n",
       "        text-align: right;\n",
       "    }\n",
       "</style>\n",
       "<table border=\"1\" class=\"dataframe\">\n",
       "  <thead>\n",
       "    <tr style=\"text-align: right;\">\n",
       "      <th></th>\n",
       "      <th>id</th>\n",
       "      <th>device</th>\n",
       "      <th>location</th>\n",
       "      <th>number</th>\n",
       "      <th>device_name</th>\n",
       "      <th>device_id</th>\n",
       "      <th>env</th>\n",
       "      <th>user_cmd</th>\n",
       "      <th>mtd</th>\n",
       "      <th>json_cmd</th>\n",
       "      <th>methods_descr</th>\n",
       "      <th>methods_names</th>\n",
       "    </tr>\n",
       "  </thead>\n",
       "  <tbody>\n",
       "    <tr>\n",
       "      <th>0</th>\n",
       "      <td>0</td>\n",
       "      <td>Light</td>\n",
       "      <td>Study room</td>\n",
       "      <td>1</td>\n",
       "      <td>Study room Light 1</td>\n",
       "      <td>98</td>\n",
       "      <td>Light, name=\"Study room Light 1\", id=98;\\nTemp...</td>\n",
       "      <td>Calibrate the Study room Light 1 now.</td>\n",
       "      <td>Light.Calibrate</td>\n",
       "      <td>{\"method\": \"Light.Calibrate\", \"params\": {\"id\":...</td>\n",
       "      <td>API method 0:\\nMethod name: Light.ResetCounter...</td>\n",
       "      <td>Light.Set,Light.ResetCounters,Light.Calibrate</td>\n",
       "    </tr>\n",
       "    <tr>\n",
       "      <th>1</th>\n",
       "      <td>1</td>\n",
       "      <td>Light</td>\n",
       "      <td>Outdoor</td>\n",
       "      <td>4</td>\n",
       "      <td>Outdoor Light 4</td>\n",
       "      <td>75</td>\n",
       "      <td>Light, name=\"Kitchen Light 2\", id=13;\\nLight, ...</td>\n",
       "      <td>Calibrate the Outdoor Light 4 now.</td>\n",
       "      <td>Light.Calibrate</td>\n",
       "      <td>{\"method\": \"Light.Calibrate\", \"params\": {\"id\":...</td>\n",
       "      <td>API method 0:\\nMethod name: Light.Set\\nMethod ...</td>\n",
       "      <td>Light.Set,Cover.Calibrate,Light.Calibrate</td>\n",
       "    </tr>\n",
       "    <tr>\n",
       "      <th>2</th>\n",
       "      <td>2</td>\n",
       "      <td>Light</td>\n",
       "      <td>Bedroom</td>\n",
       "      <td>1</td>\n",
       "      <td>Bedroom Light 1</td>\n",
       "      <td>88</td>\n",
       "      <td>Cover, name=\"Garage Cover 1\", id=56;\\nLight, n...</td>\n",
       "      <td>Calibrate the Bedroom Light 1 now.</td>\n",
       "      <td>Light.Calibrate</td>\n",
       "      <td>{\"method\": \"Light.Calibrate\", \"params\": {\"id\":...</td>\n",
       "      <td>API method 0:\\nMethod name: Light.ResetCounter...</td>\n",
       "      <td>Light.Set,Light.ResetCounters,Light.Calibrate</td>\n",
       "    </tr>\n",
       "    <tr>\n",
       "      <th>3</th>\n",
       "      <td>3</td>\n",
       "      <td>Light</td>\n",
       "      <td>Attic</td>\n",
       "      <td>3</td>\n",
       "      <td>Attic Light 3</td>\n",
       "      <td>62</td>\n",
       "      <td>Cover, name=\"Office Cover 4\", id=94;\\nInput, n...</td>\n",
       "      <td>Calibrate the Attic Light 3 now.</td>\n",
       "      <td>Light.Calibrate</td>\n",
       "      <td>{\"method\": \"Light.Calibrate\", \"params\": {\"id\":...</td>\n",
       "      <td>API method 0:\\nMethod name: Light.Calibrate\\nM...</td>\n",
       "      <td>Light.Set,Light.ResetCounters,Light.Calibrate</td>\n",
       "    </tr>\n",
       "    <tr>\n",
       "      <th>4</th>\n",
       "      <td>4</td>\n",
       "      <td>Light</td>\n",
       "      <td>Outdoor</td>\n",
       "      <td>3</td>\n",
       "      <td>Outdoor Light 3</td>\n",
       "      <td>32</td>\n",
       "      <td>Smoke, name=\"Basement Smoke 2\", id=92;\\nLight,...</td>\n",
       "      <td>Calibrate the Outdoor Light 3 now.</td>\n",
       "      <td>Light.Calibrate</td>\n",
       "      <td>{\"method\": \"Light.Calibrate\", \"params\": {\"id\":...</td>\n",
       "      <td>API method 0:\\nMethod name: Light.ResetCounter...</td>\n",
       "      <td>Light.Set,Light.ResetCounters,Light.Calibrate</td>\n",
       "    </tr>\n",
       "  </tbody>\n",
       "</table>\n",
       "</div>"
      ],
      "text/plain": [
       "   id device    location  number         device_name  device_id  \\\n",
       "0   0  Light  Study room       1  Study room Light 1         98   \n",
       "1   1  Light     Outdoor       4     Outdoor Light 4         75   \n",
       "2   2  Light     Bedroom       1     Bedroom Light 1         88   \n",
       "3   3  Light       Attic       3       Attic Light 3         62   \n",
       "4   4  Light     Outdoor       3     Outdoor Light 3         32   \n",
       "\n",
       "                                                 env  \\\n",
       "0  Light, name=\"Study room Light 1\", id=98;\\nTemp...   \n",
       "1  Light, name=\"Kitchen Light 2\", id=13;\\nLight, ...   \n",
       "2  Cover, name=\"Garage Cover 1\", id=56;\\nLight, n...   \n",
       "3  Cover, name=\"Office Cover 4\", id=94;\\nInput, n...   \n",
       "4  Smoke, name=\"Basement Smoke 2\", id=92;\\nLight,...   \n",
       "\n",
       "                                user_cmd              mtd  \\\n",
       "0  Calibrate the Study room Light 1 now.  Light.Calibrate   \n",
       "1     Calibrate the Outdoor Light 4 now.  Light.Calibrate   \n",
       "2     Calibrate the Bedroom Light 1 now.  Light.Calibrate   \n",
       "3       Calibrate the Attic Light 3 now.  Light.Calibrate   \n",
       "4     Calibrate the Outdoor Light 3 now.  Light.Calibrate   \n",
       "\n",
       "                                            json_cmd  \\\n",
       "0  {\"method\": \"Light.Calibrate\", \"params\": {\"id\":...   \n",
       "1  {\"method\": \"Light.Calibrate\", \"params\": {\"id\":...   \n",
       "2  {\"method\": \"Light.Calibrate\", \"params\": {\"id\":...   \n",
       "3  {\"method\": \"Light.Calibrate\", \"params\": {\"id\":...   \n",
       "4  {\"method\": \"Light.Calibrate\", \"params\": {\"id\":...   \n",
       "\n",
       "                                       methods_descr  \\\n",
       "0  API method 0:\\nMethod name: Light.ResetCounter...   \n",
       "1  API method 0:\\nMethod name: Light.Set\\nMethod ...   \n",
       "2  API method 0:\\nMethod name: Light.ResetCounter...   \n",
       "3  API method 0:\\nMethod name: Light.Calibrate\\nM...   \n",
       "4  API method 0:\\nMethod name: Light.ResetCounter...   \n",
       "\n",
       "                                   methods_names  \n",
       "0  Light.Set,Light.ResetCounters,Light.Calibrate  \n",
       "1      Light.Set,Cover.Calibrate,Light.Calibrate  \n",
       "2  Light.Set,Light.ResetCounters,Light.Calibrate  \n",
       "3  Light.Set,Light.ResetCounters,Light.Calibrate  \n",
       "4  Light.Set,Light.ResetCounters,Light.Calibrate  "
      ]
     },
     "execution_count": 8,
     "metadata": {},
     "output_type": "execute_result"
    }
   ],
   "source": [
    "df.head()"
   ]
  },
  {
   "cell_type": "code",
   "execution_count": 9,
   "metadata": {},
   "outputs": [
    {
     "name": "stdout",
     "output_type": "stream",
     "text": [
      "{instruction}\n",
      "{json_scheme}\n",
      "\n",
      "Devices: {env}\n",
      "Methods:\n",
      "{methods_description}\n",
      "\n",
      "Command: {user_cmd}\n",
      "JSON:\n",
      "    \n"
     ]
    }
   ],
   "source": [
    "def get_prompt_template():\n",
    "    prompt_template = \"\"\"{instruction}\n",
    "{json_scheme}\n",
    "\n",
    "Devices: {env}\n",
    "Methods:\n",
    "{methods_description}\n",
    "\n",
    "Command: {user_cmd}\n",
    "JSON:\n",
    "    \"\"\"\n",
    "\n",
    "    return prompt_template\n",
    "\n",
    "print(get_prompt_template())"
   ]
  },
  {
   "cell_type": "code",
   "execution_count": 10,
   "metadata": {},
   "outputs": [],
   "source": [
    "def get_prompts_df(df):\n",
    "    with open(DATA_DIR / 'prompts/validation/components/instruction.md') as f:\n",
    "        instruction = f.read()\n",
    "    json_scheme_prompt = {\n",
    "            \"method\": {\n",
    "                \"type\": \"string\"\n",
    "            },\n",
    "            \"params\": {\n",
    "                \"type\": \"object\"\n",
    "            }\n",
    "        }\n",
    "    json_scheme = \"The output JSON should follow the next scheme: \" + json.dumps(json_scheme_prompt)\n",
    "\n",
    "    prompts_df = pd.DataFrame(columns=['user', 'assistant'])\n",
    "\n",
    "    for i, row in df.iterrows():\n",
    "        # print(i)\n",
    "        user_cmd = row['user_cmd']\n",
    "        env = row['env']\n",
    "        methods_description = row['methods_descr']\n",
    "\n",
    "        user_prompt = get_prompt_template().format(**{'instruction': instruction,\n",
    "                                                    'json_scheme': json_scheme,\n",
    "                                                    'env': env,\n",
    "                                                    'methods_description': methods_description, \n",
    "                                                    'user_cmd': user_cmd})\n",
    "\n",
    "        series = pd.Series({'user': user_prompt, 'assistant': row['json_cmd']})\n",
    "        prompts_df.loc[len(prompts_df)] = series\n",
    "    \n",
    "    return prompts_df"
   ]
  },
  {
   "cell_type": "code",
   "execution_count": 11,
   "metadata": {},
   "outputs": [],
   "source": [
    "prompts_df = get_prompts_df(df)"
   ]
  },
  {
   "cell_type": "code",
   "execution_count": 12,
   "metadata": {},
   "outputs": [
    {
     "data": {
      "text/html": [
       "<div>\n",
       "<style scoped>\n",
       "    .dataframe tbody tr th:only-of-type {\n",
       "        vertical-align: middle;\n",
       "    }\n",
       "\n",
       "    .dataframe tbody tr th {\n",
       "        vertical-align: top;\n",
       "    }\n",
       "\n",
       "    .dataframe thead th {\n",
       "        text-align: right;\n",
       "    }\n",
       "</style>\n",
       "<table border=\"1\" class=\"dataframe\">\n",
       "  <thead>\n",
       "    <tr style=\"text-align: right;\">\n",
       "      <th></th>\n",
       "      <th>user</th>\n",
       "      <th>assistant</th>\n",
       "    </tr>\n",
       "  </thead>\n",
       "  <tbody>\n",
       "    <tr>\n",
       "      <th>0</th>\n",
       "      <td>You are a helpful AI Assistant that controls d...</td>\n",
       "      <td>{\"method\": \"Light.Calibrate\", \"params\": {\"id\":...</td>\n",
       "    </tr>\n",
       "    <tr>\n",
       "      <th>1</th>\n",
       "      <td>You are a helpful AI Assistant that controls d...</td>\n",
       "      <td>{\"method\": \"Light.Calibrate\", \"params\": {\"id\":...</td>\n",
       "    </tr>\n",
       "    <tr>\n",
       "      <th>2</th>\n",
       "      <td>You are a helpful AI Assistant that controls d...</td>\n",
       "      <td>{\"method\": \"Light.Calibrate\", \"params\": {\"id\":...</td>\n",
       "    </tr>\n",
       "    <tr>\n",
       "      <th>3</th>\n",
       "      <td>You are a helpful AI Assistant that controls d...</td>\n",
       "      <td>{\"method\": \"Light.Calibrate\", \"params\": {\"id\":...</td>\n",
       "    </tr>\n",
       "    <tr>\n",
       "      <th>4</th>\n",
       "      <td>You are a helpful AI Assistant that controls d...</td>\n",
       "      <td>{\"method\": \"Light.Calibrate\", \"params\": {\"id\":...</td>\n",
       "    </tr>\n",
       "  </tbody>\n",
       "</table>\n",
       "</div>"
      ],
      "text/plain": [
       "                                                user  \\\n",
       "0  You are a helpful AI Assistant that controls d...   \n",
       "1  You are a helpful AI Assistant that controls d...   \n",
       "2  You are a helpful AI Assistant that controls d...   \n",
       "3  You are a helpful AI Assistant that controls d...   \n",
       "4  You are a helpful AI Assistant that controls d...   \n",
       "\n",
       "                                           assistant  \n",
       "0  {\"method\": \"Light.Calibrate\", \"params\": {\"id\":...  \n",
       "1  {\"method\": \"Light.Calibrate\", \"params\": {\"id\":...  \n",
       "2  {\"method\": \"Light.Calibrate\", \"params\": {\"id\":...  \n",
       "3  {\"method\": \"Light.Calibrate\", \"params\": {\"id\":...  \n",
       "4  {\"method\": \"Light.Calibrate\", \"params\": {\"id\":...  "
      ]
     },
     "execution_count": 12,
     "metadata": {},
     "output_type": "execute_result"
    }
   ],
   "source": [
    "prompts_df.head()"
   ]
  },
  {
   "cell_type": "code",
   "execution_count": 10,
   "metadata": {},
   "outputs": [],
   "source": [
    "tokenizer = AutoTokenizer.from_pretrained(\"mistralai/Mistral-7B-Instruct-v0.2\")"
   ]
  },
  {
   "cell_type": "code",
   "execution_count": 11,
   "metadata": {},
   "outputs": [],
   "source": [
    "prompts_df['num_tokens'] = 0\n",
    "\n",
    "for i, row in prompts_df.iterrows():\n",
    "    ids = tokenizer.apply_chat_template([{'role': 'user', 'content': row['user']}, {'role': 'assistant', 'content': row['assistant']}], return_tensors='np')[0]\n",
    "    prompts_df.loc[i, 'num_tokens'] = len(ids)"
   ]
  },
  {
   "cell_type": "code",
   "execution_count": 59,
   "metadata": {},
   "outputs": [
    {
     "data": {
      "text/plain": [
       "'<s>[INST] a [/INST]b</s>'"
      ]
     },
     "execution_count": 59,
     "metadata": {},
     "output_type": "execute_result"
    }
   ],
   "source": [
    "o = tokenizer.apply_chat_template([{'role': 'user', 'content': 'a'}, {'role': 'assistant', 'content': 'b'}], return_tensors='np', tokenize=False)\n",
    "o"
   ]
  },
  {
   "cell_type": "code",
   "execution_count": 38,
   "metadata": {},
   "outputs": [
    {
     "name": "stdout",
     "output_type": "stream",
     "text": [
      "{'input_ids': array([[    0,     0,     0, ...,     0,     1, 18641]]), 'attention_mask': array([[0, 0, 0, ..., 0, 1, 1]])}\n"
     ]
    },
    {
     "data": {
      "text/plain": [
       "'<s> abc'"
      ]
     },
     "execution_count": 38,
     "metadata": {},
     "output_type": "execute_result"
    }
   ],
   "source": [
    "tokenizer.pad_token = tokenizer.unk_token\n",
    "o = tokenizer(\"abc\", max_length=2000, padding='max_length', return_tensors='np', return_attention_mask=True)\n",
    "print(o)\n",
    "tokenizer.decode([1, 18641])"
   ]
  },
  {
   "cell_type": "code",
   "execution_count": 12,
   "metadata": {},
   "outputs": [
    {
     "data": {
      "image/png": "[encoded data removed]",
      "text/plain": [
       "<Figure size 640x480 with 1 Axes>"
      ]
     },
     "metadata": {},
     "output_type": "display_data"
    }
   ],
   "source": [
    "sns.histplot(prompts_df['num_tokens'], bins=20)\n",
    "plt.show()"
   ]
  },
  {
   "cell_type": "code",
   "execution_count": 15,
   "metadata": {},
   "outputs": [
    {
     "data": {
      "text/plain": [
       "2098"
      ]
     },
     "execution_count": 15,
     "metadata": {},
     "output_type": "execute_result"
    }
   ],
   "source": [
    "max(prompts_df['num_tokens'])"
   ]
  },
  {
   "cell_type": "code",
   "execution_count": 14,
   "metadata": {},
   "outputs": [
    {
     "data": {
      "text/html": [
       "<div>\n",
       "<style scoped>\n",
       "    .dataframe tbody tr th:only-of-type {\n",
       "        vertical-align: middle;\n",
       "    }\n",
       "\n",
       "    .dataframe tbody tr th {\n",
       "        vertical-align: top;\n",
       "    }\n",
       "\n",
       "    .dataframe thead th {\n",
       "        text-align: right;\n",
       "    }\n",
       "</style>\n",
       "<table border=\"1\" class=\"dataframe\">\n",
       "  <thead>\n",
       "    <tr style=\"text-align: right;\">\n",
       "      <th></th>\n",
       "      <th>user</th>\n",
       "      <th>assistant</th>\n",
       "      <th>num_tokens</th>\n",
       "    </tr>\n",
       "  </thead>\n",
       "  <tbody>\n",
       "  </tbody>\n",
       "</table>\n",
       "</div>"
      ],
      "text/plain": [
       "Empty DataFrame\n",
       "Columns: [user, assistant, num_tokens]\n",
       "Index: []"
      ]
     },
     "execution_count": 14,
     "metadata": {},
     "output_type": "execute_result"
    }
   ],
   "source": [
    "prompts_df[prompts_df['num_tokens'] > 2100]"
   ]
  },
  {
   "cell_type": "code",
   "execution_count": 14,
   "metadata": {},
   "outputs": [],
   "source": [
    "res_df = prompts_df.drop(columns=['num_tokens'])"
   ]
  },
  {
   "cell_type": "code",
   "execution_count": 15,
   "metadata": {},
   "outputs": [],
   "source": [
    "res_df.to_csv(DATA_DIR / 'datasets/merged/train.csv', index=False)"
   ]
  },
  {
   "cell_type": "markdown",
   "metadata": {},
   "source": [
    "## Pipeline"
   ]
  },
  {
   "cell_type": "code",
   "execution_count": 13,
   "metadata": {},
   "outputs": [
    {
     "data": {
      "image/png": "[encoded data removed]",
      "text/plain": [
       "<Figure size 640x480 with 1 Axes>"
      ]
     },
     "metadata": {},
     "output_type": "display_data"
    },
    {
     "name": "stdout",
     "output_type": "stream",
     "text": [
      "1930.0\n"
     ]
    },
    {
     "data": {
      "image/png": "[encoded data removed]",
      "text/plain": [
       "<Figure size 640x480 with 1 Axes>"
      ]
     },
     "metadata": {},
     "output_type": "display_data"
    },
    {
     "name": "stdout",
     "output_type": "stream",
     "text": [
      "1959.0\n"
     ]
    }
   ],
   "source": [
    "# tokenizer = AutoTokenizer.from_pretrained(\"mistralai/Mistral-7B-Instruct-v0.2\")\n",
    "tokenizer = AutoTokenizer.from_pretrained(\"google/gemma-1.1-2b-it\")\n",
    "\n",
    "for split in ['train', 'val']:\n",
    "    df = pd.read_csv(DATA_DIR / f'datasets/merged/{split}_0_mtds.csv')\n",
    "\n",
    "    prompts_df = get_prompts_df(df)\n",
    "\n",
    "    for i, row in prompts_df.iterrows():\n",
    "        ids = tokenizer.apply_chat_template([{'role': 'user', 'content': row['user']}, {'role': 'assistant', 'content': row['assistant']}], return_tensors='np')[0]\n",
    "        prompts_df.loc[i, 'num_tokens'] = len(ids)\n",
    "\n",
    "    sns.histplot(prompts_df['num_tokens'], bins=20)\n",
    "    plt.show()\n",
    "    print(max(prompts_df['num_tokens']))\n",
    "    \n",
    "    res_df = prompts_df.drop(columns=['num_tokens'])\n",
    "\n",
    "    res_df.to_csv(DATA_DIR / f'datasets/merged/home-assistant/{split}.csv', index=False)"
   ]
  },
  {
   "cell_type": "code",
   "execution_count": 9,
   "metadata": {},
   "outputs": [],
   "source": [
    "df = pd.read_csv(DATA_DIR / f'datasets/merged/test_0.csv')"
   ]
  },
  {
   "cell_type": "code",
   "execution_count": 16,
   "metadata": {},
   "outputs": [
    {
     "data": {
      "text/plain": [
       "array(['Cover.Open', 'Switch.GetStatus', 'Cover.Calibrate',\n",
       "       'Switch.GetConfig', 'Light.SetConfig', 'Smoke.GetStatus',\n",
       "       'Light.GetStatus', 'Light.ResetCounters', 'Input.SetConfig',\n",
       "       'Humidity.GetConfig', 'Switch.Set', 'Cover.GetConfig',\n",
       "       'Input.GetConfig', 'Temperature.GetStatus', 'Light.Toggle',\n",
       "       'Temperature.SetTemperature', 'Cover.Stop', 'Humidity.GetStatus',\n",
       "       'Switch.ResetCounters', 'Input.ResetCounters', 'Smoke.Mute',\n",
       "       'Cover.SetConfig', 'Light.GetConfig', 'Cover.Close', 'Light.Set',\n",
       "       'Light.Calibrate', 'Temperature.SetConfig',\n",
       "       'Temperature.GetConfig', 'Switch.Toggle'], dtype=object)"
      ]
     },
     "execution_count": 16,
     "metadata": {},
     "output_type": "execute_result"
    }
   ],
   "source": [
    "df['mtd'].unique()"
   ]
  },
  {
   "cell_type": "code",
   "execution_count": 11,
   "metadata": {},
   "outputs": [
    {
     "data": {
      "text/plain": [
       "55.0"
      ]
     },
     "execution_count": 11,
     "metadata": {},
     "output_type": "execute_result"
    }
   ],
   "source": [
    "825 / 15"
   ]
  }
 ],
 "metadata": {
  "kernelspec": {
   "display_name": "assistant",
   "language": "python",
   "name": "python3"
  },
  "language_info": {
   "codemirror_mode": {
    "name": "ipython",
    "version": 3
   },
   "file_extension": ".py",
   "mimetype": "text/x-python",
   "name": "python",
   "nbconvert_exporter": "python",
   "pygments_lexer": "ipython3",
   "version": "3.9.18"
  }
 },
 "nbformat": 4,
 "nbformat_minor": 2
}
